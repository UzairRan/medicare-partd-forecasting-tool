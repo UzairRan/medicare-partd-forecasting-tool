{
  "nbformat": 4,
  "nbformat_minor": 0,
  "metadata": {
    "colab": {
      "provenance": []
    },
    "kernelspec": {
      "name": "python3",
      "display_name": "Python 3"
    },
    "language_info": {
      "name": "python"
    },
    "widgets": {
      "application/vnd.jupyter.widget-state+json": {
        "f6420c7b8d1a477d87faa6d4d9e2daf6": {
          "model_module": "@jupyter-widgets/controls",
          "model_name": "HBoxModel",
          "model_module_version": "1.5.0",
          "state": {
            "_dom_classes": [],
            "_model_module": "@jupyter-widgets/controls",
            "_model_module_version": "1.5.0",
            "_model_name": "HBoxModel",
            "_view_count": null,
            "_view_module": "@jupyter-widgets/controls",
            "_view_module_version": "1.5.0",
            "_view_name": "HBoxView",
            "box_style": "",
            "children": [
              "IPY_MODEL_f9557115cd0e4dd2a6a7ac4123d7e48c",
              "IPY_MODEL_22c24a13cb884a8b862ec43068d33199",
              "IPY_MODEL_5b3f3a39335a4c0ea0df8f4504779c20"
            ],
            "layout": "IPY_MODEL_8eaa0e02a12c489ab643f1e72a039ed2"
          }
        },
        "f9557115cd0e4dd2a6a7ac4123d7e48c": {
          "model_module": "@jupyter-widgets/controls",
          "model_name": "HTMLModel",
          "model_module_version": "1.5.0",
          "state": {
            "_dom_classes": [],
            "_model_module": "@jupyter-widgets/controls",
            "_model_module_version": "1.5.0",
            "_model_name": "HTMLModel",
            "_view_count": null,
            "_view_module": "@jupyter-widgets/controls",
            "_view_module_version": "1.5.0",
            "_view_name": "HTMLView",
            "description": "",
            "description_tooltip": null,
            "layout": "IPY_MODEL_12b42cb496d544eaab9530048193b274",
            "placeholder": "​",
            "style": "IPY_MODEL_0a03e1e3f640453e902a52738454e4be",
            "value": "Best trial: 27. Best value: 0.104381: 100%"
          }
        },
        "22c24a13cb884a8b862ec43068d33199": {
          "model_module": "@jupyter-widgets/controls",
          "model_name": "FloatProgressModel",
          "model_module_version": "1.5.0",
          "state": {
            "_dom_classes": [],
            "_model_module": "@jupyter-widgets/controls",
            "_model_module_version": "1.5.0",
            "_model_name": "FloatProgressModel",
            "_view_count": null,
            "_view_module": "@jupyter-widgets/controls",
            "_view_module_version": "1.5.0",
            "_view_name": "ProgressView",
            "bar_style": "success",
            "description": "",
            "description_tooltip": null,
            "layout": "IPY_MODEL_93a4acb2703749059f6e7b1ba0e0359b",
            "max": 30,
            "min": 0,
            "orientation": "horizontal",
            "style": "IPY_MODEL_d5bf673e2f4541dfbdf940af0e16af23",
            "value": 30
          }
        },
        "5b3f3a39335a4c0ea0df8f4504779c20": {
          "model_module": "@jupyter-widgets/controls",
          "model_name": "HTMLModel",
          "model_module_version": "1.5.0",
          "state": {
            "_dom_classes": [],
            "_model_module": "@jupyter-widgets/controls",
            "_model_module_version": "1.5.0",
            "_model_name": "HTMLModel",
            "_view_count": null,
            "_view_module": "@jupyter-widgets/controls",
            "_view_module_version": "1.5.0",
            "_view_name": "HTMLView",
            "description": "",
            "description_tooltip": null,
            "layout": "IPY_MODEL_797102154dfd4a6b81c2a48e34d05838",
            "placeholder": "​",
            "style": "IPY_MODEL_70ca53b734b044bca981217093978d80",
            "value": " 30/30 [01:36&lt;00:00,  2.77s/it]"
          }
        },
        "8eaa0e02a12c489ab643f1e72a039ed2": {
          "model_module": "@jupyter-widgets/base",
          "model_name": "LayoutModel",
          "model_module_version": "1.2.0",
          "state": {
            "_model_module": "@jupyter-widgets/base",
            "_model_module_version": "1.2.0",
            "_model_name": "LayoutModel",
            "_view_count": null,
            "_view_module": "@jupyter-widgets/base",
            "_view_module_version": "1.2.0",
            "_view_name": "LayoutView",
            "align_content": null,
            "align_items": null,
            "align_self": null,
            "border": null,
            "bottom": null,
            "display": null,
            "flex": null,
            "flex_flow": null,
            "grid_area": null,
            "grid_auto_columns": null,
            "grid_auto_flow": null,
            "grid_auto_rows": null,
            "grid_column": null,
            "grid_gap": null,
            "grid_row": null,
            "grid_template_areas": null,
            "grid_template_columns": null,
            "grid_template_rows": null,
            "height": null,
            "justify_content": null,
            "justify_items": null,
            "left": null,
            "margin": null,
            "max_height": null,
            "max_width": null,
            "min_height": null,
            "min_width": null,
            "object_fit": null,
            "object_position": null,
            "order": null,
            "overflow": null,
            "overflow_x": null,
            "overflow_y": null,
            "padding": null,
            "right": null,
            "top": null,
            "visibility": null,
            "width": null
          }
        },
        "12b42cb496d544eaab9530048193b274": {
          "model_module": "@jupyter-widgets/base",
          "model_name": "LayoutModel",
          "model_module_version": "1.2.0",
          "state": {
            "_model_module": "@jupyter-widgets/base",
            "_model_module_version": "1.2.0",
            "_model_name": "LayoutModel",
            "_view_count": null,
            "_view_module": "@jupyter-widgets/base",
            "_view_module_version": "1.2.0",
            "_view_name": "LayoutView",
            "align_content": null,
            "align_items": null,
            "align_self": null,
            "border": null,
            "bottom": null,
            "display": null,
            "flex": null,
            "flex_flow": null,
            "grid_area": null,
            "grid_auto_columns": null,
            "grid_auto_flow": null,
            "grid_auto_rows": null,
            "grid_column": null,
            "grid_gap": null,
            "grid_row": null,
            "grid_template_areas": null,
            "grid_template_columns": null,
            "grid_template_rows": null,
            "height": null,
            "justify_content": null,
            "justify_items": null,
            "left": null,
            "margin": null,
            "max_height": null,
            "max_width": null,
            "min_height": null,
            "min_width": null,
            "object_fit": null,
            "object_position": null,
            "order": null,
            "overflow": null,
            "overflow_x": null,
            "overflow_y": null,
            "padding": null,
            "right": null,
            "top": null,
            "visibility": null,
            "width": null
          }
        },
        "0a03e1e3f640453e902a52738454e4be": {
          "model_module": "@jupyter-widgets/controls",
          "model_name": "DescriptionStyleModel",
          "model_module_version": "1.5.0",
          "state": {
            "_model_module": "@jupyter-widgets/controls",
            "_model_module_version": "1.5.0",
            "_model_name": "DescriptionStyleModel",
            "_view_count": null,
            "_view_module": "@jupyter-widgets/base",
            "_view_module_version": "1.2.0",
            "_view_name": "StyleView",
            "description_width": ""
          }
        },
        "93a4acb2703749059f6e7b1ba0e0359b": {
          "model_module": "@jupyter-widgets/base",
          "model_name": "LayoutModel",
          "model_module_version": "1.2.0",
          "state": {
            "_model_module": "@jupyter-widgets/base",
            "_model_module_version": "1.2.0",
            "_model_name": "LayoutModel",
            "_view_count": null,
            "_view_module": "@jupyter-widgets/base",
            "_view_module_version": "1.2.0",
            "_view_name": "LayoutView",
            "align_content": null,
            "align_items": null,
            "align_self": null,
            "border": null,
            "bottom": null,
            "display": null,
            "flex": null,
            "flex_flow": null,
            "grid_area": null,
            "grid_auto_columns": null,
            "grid_auto_flow": null,
            "grid_auto_rows": null,
            "grid_column": null,
            "grid_gap": null,
            "grid_row": null,
            "grid_template_areas": null,
            "grid_template_columns": null,
            "grid_template_rows": null,
            "height": null,
            "justify_content": null,
            "justify_items": null,
            "left": null,
            "margin": null,
            "max_height": null,
            "max_width": null,
            "min_height": null,
            "min_width": null,
            "object_fit": null,
            "object_position": null,
            "order": null,
            "overflow": null,
            "overflow_x": null,
            "overflow_y": null,
            "padding": null,
            "right": null,
            "top": null,
            "visibility": null,
            "width": null
          }
        },
        "d5bf673e2f4541dfbdf940af0e16af23": {
          "model_module": "@jupyter-widgets/controls",
          "model_name": "ProgressStyleModel",
          "model_module_version": "1.5.0",
          "state": {
            "_model_module": "@jupyter-widgets/controls",
            "_model_module_version": "1.5.0",
            "_model_name": "ProgressStyleModel",
            "_view_count": null,
            "_view_module": "@jupyter-widgets/base",
            "_view_module_version": "1.2.0",
            "_view_name": "StyleView",
            "bar_color": null,
            "description_width": ""
          }
        },
        "797102154dfd4a6b81c2a48e34d05838": {
          "model_module": "@jupyter-widgets/base",
          "model_name": "LayoutModel",
          "model_module_version": "1.2.0",
          "state": {
            "_model_module": "@jupyter-widgets/base",
            "_model_module_version": "1.2.0",
            "_model_name": "LayoutModel",
            "_view_count": null,
            "_view_module": "@jupyter-widgets/base",
            "_view_module_version": "1.2.0",
            "_view_name": "LayoutView",
            "align_content": null,
            "align_items": null,
            "align_self": null,
            "border": null,
            "bottom": null,
            "display": null,
            "flex": null,
            "flex_flow": null,
            "grid_area": null,
            "grid_auto_columns": null,
            "grid_auto_flow": null,
            "grid_auto_rows": null,
            "grid_column": null,
            "grid_gap": null,
            "grid_row": null,
            "grid_template_areas": null,
            "grid_template_columns": null,
            "grid_template_rows": null,
            "height": null,
            "justify_content": null,
            "justify_items": null,
            "left": null,
            "margin": null,
            "max_height": null,
            "max_width": null,
            "min_height": null,
            "min_width": null,
            "object_fit": null,
            "object_position": null,
            "order": null,
            "overflow": null,
            "overflow_x": null,
            "overflow_y": null,
            "padding": null,
            "right": null,
            "top": null,
            "visibility": null,
            "width": null
          }
        },
        "70ca53b734b044bca981217093978d80": {
          "model_module": "@jupyter-widgets/controls",
          "model_name": "DescriptionStyleModel",
          "model_module_version": "1.5.0",
          "state": {
            "_model_module": "@jupyter-widgets/controls",
            "_model_module_version": "1.5.0",
            "_model_name": "DescriptionStyleModel",
            "_view_count": null,
            "_view_module": "@jupyter-widgets/base",
            "_view_module_version": "1.2.0",
            "_view_name": "StyleView",
            "description_width": ""
          }
        }
      }
    }
  },
  "cells": [
    {
      "cell_type": "markdown",
      "source": [
        "# Medicare Part D AI Forecasting Tool"
      ],
      "metadata": {
        "id": "sM8qS1YVlUDU"
      }
    },
    {
      "cell_type": "code",
      "source": [
        "!pip install optuna"
      ],
      "metadata": {
        "colab": {
          "base_uri": "https://localhost:8080/"
        },
        "id": "3ziK5z33HxUp",
        "outputId": "6065766d-1e72-462c-e904-e8325aa1561e"
      },
      "execution_count": 1,
      "outputs": [
        {
          "output_type": "stream",
          "name": "stdout",
          "text": [
            "Requirement already satisfied: optuna in /usr/local/lib/python3.11/dist-packages (4.4.0)\n",
            "Requirement already satisfied: alembic>=1.5.0 in /usr/local/lib/python3.11/dist-packages (from optuna) (1.16.4)\n",
            "Requirement already satisfied: colorlog in /usr/local/lib/python3.11/dist-packages (from optuna) (6.9.0)\n",
            "Requirement already satisfied: numpy in /usr/local/lib/python3.11/dist-packages (from optuna) (2.0.2)\n",
            "Requirement already satisfied: packaging>=20.0 in /usr/local/lib/python3.11/dist-packages (from optuna) (25.0)\n",
            "Requirement already satisfied: sqlalchemy>=1.4.2 in /usr/local/lib/python3.11/dist-packages (from optuna) (2.0.41)\n",
            "Requirement already satisfied: tqdm in /usr/local/lib/python3.11/dist-packages (from optuna) (4.67.1)\n",
            "Requirement already satisfied: PyYAML in /usr/local/lib/python3.11/dist-packages (from optuna) (6.0.2)\n",
            "Requirement already satisfied: Mako in /usr/lib/python3/dist-packages (from alembic>=1.5.0->optuna) (1.1.3)\n",
            "Requirement already satisfied: typing-extensions>=4.12 in /usr/local/lib/python3.11/dist-packages (from alembic>=1.5.0->optuna) (4.14.1)\n",
            "Requirement already satisfied: greenlet>=1 in /usr/local/lib/python3.11/dist-packages (from sqlalchemy>=1.4.2->optuna) (3.2.3)\n"
          ]
        }
      ]
    },
    {
      "cell_type": "code",
      "source": [
        "# Import Necessary Libraries\n",
        "import numpy as np\n",
        "import pandas as pd\n",
        "import matplotlib.pyplot as plt\n",
        "import matplotlib.ticker as mtick\n",
        "import seaborn as sns\n",
        "from sklearn.model_selection import train_test_split\n",
        "from sklearn.metrics import mean_absolute_error, mean_squared_error, mean_absolute_percentage_error\n",
        "import lightgbm as lgb\n",
        "import shap\n",
        "import joblib\n",
        "import optuna\n",
        "from optuna import Trial\n",
        "from optuna.visualization import plot_optimization_history\n",
        "import os\n",
        "import warnings\n",
        "warnings.filterwarnings('ignore')\n"
      ],
      "metadata": {
        "id": "iN7YhZlLlYIs"
      },
      "execution_count": 2,
      "outputs": []
    },
    {
      "cell_type": "code",
      "source": [
        "#  Upload data file\n",
        "from google.colab import files\n",
        "uploaded = files.upload()"
      ],
      "metadata": {
        "colab": {
          "base_uri": "https://localhost:8080/",
          "height": 73
        },
        "id": "iLbMGSKE7-Bi",
        "outputId": "4a131d9c-dea2-4319-c070-0be335fdda6d"
      },
      "execution_count": 3,
      "outputs": [
        {
          "output_type": "display_data",
          "data": {
            "text/plain": [
              "<IPython.core.display.HTML object>"
            ],
            "text/html": [
              "\n",
              "     <input type=\"file\" id=\"files-379e56f9-6358-4e4e-a3e1-db02801a86ba\" name=\"files[]\" multiple disabled\n",
              "        style=\"border:none\" />\n",
              "     <output id=\"result-379e56f9-6358-4e4e-a3e1-db02801a86ba\">\n",
              "      Upload widget is only available when the cell has been executed in the\n",
              "      current browser session. Please rerun this cell to enable.\n",
              "      </output>\n",
              "      <script>// Copyright 2017 Google LLC\n",
              "//\n",
              "// Licensed under the Apache License, Version 2.0 (the \"License\");\n",
              "// you may not use this file except in compliance with the License.\n",
              "// You may obtain a copy of the License at\n",
              "//\n",
              "//      http://www.apache.org/licenses/LICENSE-2.0\n",
              "//\n",
              "// Unless required by applicable law or agreed to in writing, software\n",
              "// distributed under the License is distributed on an \"AS IS\" BASIS,\n",
              "// WITHOUT WARRANTIES OR CONDITIONS OF ANY KIND, either express or implied.\n",
              "// See the License for the specific language governing permissions and\n",
              "// limitations under the License.\n",
              "\n",
              "/**\n",
              " * @fileoverview Helpers for google.colab Python module.\n",
              " */\n",
              "(function(scope) {\n",
              "function span(text, styleAttributes = {}) {\n",
              "  const element = document.createElement('span');\n",
              "  element.textContent = text;\n",
              "  for (const key of Object.keys(styleAttributes)) {\n",
              "    element.style[key] = styleAttributes[key];\n",
              "  }\n",
              "  return element;\n",
              "}\n",
              "\n",
              "// Max number of bytes which will be uploaded at a time.\n",
              "const MAX_PAYLOAD_SIZE = 100 * 1024;\n",
              "\n",
              "function _uploadFiles(inputId, outputId) {\n",
              "  const steps = uploadFilesStep(inputId, outputId);\n",
              "  const outputElement = document.getElementById(outputId);\n",
              "  // Cache steps on the outputElement to make it available for the next call\n",
              "  // to uploadFilesContinue from Python.\n",
              "  outputElement.steps = steps;\n",
              "\n",
              "  return _uploadFilesContinue(outputId);\n",
              "}\n",
              "\n",
              "// This is roughly an async generator (not supported in the browser yet),\n",
              "// where there are multiple asynchronous steps and the Python side is going\n",
              "// to poll for completion of each step.\n",
              "// This uses a Promise to block the python side on completion of each step,\n",
              "// then passes the result of the previous step as the input to the next step.\n",
              "function _uploadFilesContinue(outputId) {\n",
              "  const outputElement = document.getElementById(outputId);\n",
              "  const steps = outputElement.steps;\n",
              "\n",
              "  const next = steps.next(outputElement.lastPromiseValue);\n",
              "  return Promise.resolve(next.value.promise).then((value) => {\n",
              "    // Cache the last promise value to make it available to the next\n",
              "    // step of the generator.\n",
              "    outputElement.lastPromiseValue = value;\n",
              "    return next.value.response;\n",
              "  });\n",
              "}\n",
              "\n",
              "/**\n",
              " * Generator function which is called between each async step of the upload\n",
              " * process.\n",
              " * @param {string} inputId Element ID of the input file picker element.\n",
              " * @param {string} outputId Element ID of the output display.\n",
              " * @return {!Iterable<!Object>} Iterable of next steps.\n",
              " */\n",
              "function* uploadFilesStep(inputId, outputId) {\n",
              "  const inputElement = document.getElementById(inputId);\n",
              "  inputElement.disabled = false;\n",
              "\n",
              "  const outputElement = document.getElementById(outputId);\n",
              "  outputElement.innerHTML = '';\n",
              "\n",
              "  const pickedPromise = new Promise((resolve) => {\n",
              "    inputElement.addEventListener('change', (e) => {\n",
              "      resolve(e.target.files);\n",
              "    });\n",
              "  });\n",
              "\n",
              "  const cancel = document.createElement('button');\n",
              "  inputElement.parentElement.appendChild(cancel);\n",
              "  cancel.textContent = 'Cancel upload';\n",
              "  const cancelPromise = new Promise((resolve) => {\n",
              "    cancel.onclick = () => {\n",
              "      resolve(null);\n",
              "    };\n",
              "  });\n",
              "\n",
              "  // Wait for the user to pick the files.\n",
              "  const files = yield {\n",
              "    promise: Promise.race([pickedPromise, cancelPromise]),\n",
              "    response: {\n",
              "      action: 'starting',\n",
              "    }\n",
              "  };\n",
              "\n",
              "  cancel.remove();\n",
              "\n",
              "  // Disable the input element since further picks are not allowed.\n",
              "  inputElement.disabled = true;\n",
              "\n",
              "  if (!files) {\n",
              "    return {\n",
              "      response: {\n",
              "        action: 'complete',\n",
              "      }\n",
              "    };\n",
              "  }\n",
              "\n",
              "  for (const file of files) {\n",
              "    const li = document.createElement('li');\n",
              "    li.append(span(file.name, {fontWeight: 'bold'}));\n",
              "    li.append(span(\n",
              "        `(${file.type || 'n/a'}) - ${file.size} bytes, ` +\n",
              "        `last modified: ${\n",
              "            file.lastModifiedDate ? file.lastModifiedDate.toLocaleDateString() :\n",
              "                                    'n/a'} - `));\n",
              "    const percent = span('0% done');\n",
              "    li.appendChild(percent);\n",
              "\n",
              "    outputElement.appendChild(li);\n",
              "\n",
              "    const fileDataPromise = new Promise((resolve) => {\n",
              "      const reader = new FileReader();\n",
              "      reader.onload = (e) => {\n",
              "        resolve(e.target.result);\n",
              "      };\n",
              "      reader.readAsArrayBuffer(file);\n",
              "    });\n",
              "    // Wait for the data to be ready.\n",
              "    let fileData = yield {\n",
              "      promise: fileDataPromise,\n",
              "      response: {\n",
              "        action: 'continue',\n",
              "      }\n",
              "    };\n",
              "\n",
              "    // Use a chunked sending to avoid message size limits. See b/62115660.\n",
              "    let position = 0;\n",
              "    do {\n",
              "      const length = Math.min(fileData.byteLength - position, MAX_PAYLOAD_SIZE);\n",
              "      const chunk = new Uint8Array(fileData, position, length);\n",
              "      position += length;\n",
              "\n",
              "      const base64 = btoa(String.fromCharCode.apply(null, chunk));\n",
              "      yield {\n",
              "        response: {\n",
              "          action: 'append',\n",
              "          file: file.name,\n",
              "          data: base64,\n",
              "        },\n",
              "      };\n",
              "\n",
              "      let percentDone = fileData.byteLength === 0 ?\n",
              "          100 :\n",
              "          Math.round((position / fileData.byteLength) * 100);\n",
              "      percent.textContent = `${percentDone}% done`;\n",
              "\n",
              "    } while (position < fileData.byteLength);\n",
              "  }\n",
              "\n",
              "  // All done.\n",
              "  yield {\n",
              "    response: {\n",
              "      action: 'complete',\n",
              "    }\n",
              "  };\n",
              "}\n",
              "\n",
              "scope.google = scope.google || {};\n",
              "scope.google.colab = scope.google.colab || {};\n",
              "scope.google.colab._files = {\n",
              "  _uploadFiles,\n",
              "  _uploadFilesContinue,\n",
              "};\n",
              "})(self);\n",
              "</script> "
            ]
          },
          "metadata": {}
        },
        {
          "output_type": "stream",
          "name": "stdout",
          "text": [
            "Saving DSD_PTD_RY25_P04_V10_DY23_BGM.csv to DSD_PTD_RY25_P04_V10_DY23_BGM.csv\n"
          ]
        }
      ]
    },
    {
      "cell_type": "code",
      "source": [
        "# Replace with the correct file name\n",
        "file_name = list(uploaded.keys())[0]\n",
        "\n",
        "if file_name.endswith('.csv'):\n",
        "    df = pd.read_csv(file_name)\n",
        "elif file_name.endswith(('.xls', '.xlsx')):\n",
        "    df = pd.read_excel(file_name)\n",
        "else:\n",
        "    raise ValueError(\"Unsupported file type.\")"
      ],
      "metadata": {
        "id": "or6LsN9d8M1Q"
      },
      "execution_count": 4,
      "outputs": []
    },
    {
      "cell_type": "markdown",
      "source": [
        "# Basic exploration"
      ],
      "metadata": {
        "id": "awdvmwiG8kU7"
      }
    },
    {
      "cell_type": "code",
      "source": [
        "# Basic exploration\n",
        "print(\"✅ Data Loaded Successfully\")\n"
      ],
      "metadata": {
        "id": "lTBFL2698epD",
        "colab": {
          "base_uri": "https://localhost:8080/"
        },
        "outputId": "3dc1d3fc-7e2b-4c6f-d8b0-0d531e254d19"
      },
      "execution_count": 5,
      "outputs": [
        {
          "output_type": "stream",
          "name": "stdout",
          "text": [
            "✅ Data Loaded Successfully\n"
          ]
        }
      ]
    },
    {
      "cell_type": "code",
      "source": [
        "print(f\"🔍 Shape: {df.shape}\")\n"
      ],
      "metadata": {
        "id": "jSu4BOl-8qpz",
        "colab": {
          "base_uri": "https://localhost:8080/"
        },
        "outputId": "8243abac-57b5-47e2-dde6-7e9dda1ba64e"
      },
      "execution_count": 6,
      "outputs": [
        {
          "output_type": "stream",
          "name": "stdout",
          "text": [
            "🔍 Shape: (14309, 46)\n"
          ]
        }
      ]
    },
    {
      "cell_type": "code",
      "source": [
        "print(\"\\n📌 Columns:\")\n",
        "for col in df.columns:\n",
        "    print(f\"- {col}\")\n"
      ],
      "metadata": {
        "id": "8MAFx8Z38s8z",
        "colab": {
          "base_uri": "https://localhost:8080/"
        },
        "outputId": "632ee359-6b36-4655-aaff-23305420801a"
      },
      "execution_count": 7,
      "outputs": [
        {
          "output_type": "stream",
          "name": "stdout",
          "text": [
            "\n",
            "📌 Columns:\n",
            "- Brnd_Name\n",
            "- Gnrc_Name\n",
            "- Tot_Mftr\n",
            "- Mftr_Name\n",
            "- Tot_Spndng_2019\n",
            "- Tot_Dsg_Unts_2019\n",
            "- Tot_Clms_2019\n",
            "- Tot_Benes_2019\n",
            "- Avg_Spnd_Per_Dsg_Unt_Wghtd_2019\n",
            "- Avg_Spnd_Per_Clm_2019\n",
            "- Avg_Spnd_Per_Bene_2019\n",
            "- Outlier_Flag_2019\n",
            "- Tot_Spndng_2020\n",
            "- Tot_Dsg_Unts_2020\n",
            "- Tot_Clms_2020\n",
            "- Tot_Benes_2020\n",
            "- Avg_Spnd_Per_Dsg_Unt_Wghtd_2020\n",
            "- Avg_Spnd_Per_Clm_2020\n",
            "- Avg_Spnd_Per_Bene_2020\n",
            "- Outlier_Flag_2020\n",
            "- Tot_Spndng_2021\n",
            "- Tot_Dsg_Unts_2021\n",
            "- Tot_Clms_2021\n",
            "- Tot_Benes_2021\n",
            "- Avg_Spnd_Per_Dsg_Unt_Wghtd_2021\n",
            "- Avg_Spnd_Per_Clm_2021\n",
            "- Avg_Spnd_Per_Bene_2021\n",
            "- Outlier_Flag_2021\n",
            "- Tot_Spndng_2022\n",
            "- Tot_Dsg_Unts_2022\n",
            "- Tot_Clms_2022\n",
            "- Tot_Benes_2022\n",
            "- Avg_Spnd_Per_Dsg_Unt_Wghtd_2022\n",
            "- Avg_Spnd_Per_Clm_2022\n",
            "- Avg_Spnd_Per_Bene_2022\n",
            "- Outlier_Flag_2022\n",
            "- Tot_Spndng_2023\n",
            "- Tot_Dsg_Unts_2023\n",
            "- Tot_Clms_2023\n",
            "- Tot_Benes_2023\n",
            "- Avg_Spnd_Per_Dsg_Unt_Wghtd_2023\n",
            "- Avg_Spnd_Per_Clm_2023\n",
            "- Avg_Spnd_Per_Bene_2023\n",
            "- Outlier_Flag_2023\n",
            "- Chg_Avg_Spnd_Per_Dsg_Unt_22_23\n",
            "- CAGR_Avg_Spnd_Per_Dsg_Unt_19_23\n"
          ]
        }
      ]
    },
    {
      "cell_type": "code",
      "source": [
        "print(f\"\\n🧼 Missing values:\\n{df.isnull().sum()}\")"
      ],
      "metadata": {
        "id": "eftZJWRF8vmK",
        "colab": {
          "base_uri": "https://localhost:8080/"
        },
        "outputId": "58629a7d-37bd-4e99-e9c3-3ad26c62a139"
      },
      "execution_count": 8,
      "outputs": [
        {
          "output_type": "stream",
          "name": "stdout",
          "text": [
            "\n",
            "🧼 Missing values:\n",
            "Brnd_Name                             0\n",
            "Gnrc_Name                             0\n",
            "Tot_Mftr                              0\n",
            "Mftr_Name                             0\n",
            "Tot_Spndng_2019                    4205\n",
            "Tot_Dsg_Unts_2019                  4205\n",
            "Tot_Clms_2019                      4205\n",
            "Tot_Benes_2019                     4292\n",
            "Avg_Spnd_Per_Dsg_Unt_Wghtd_2019    4205\n",
            "Avg_Spnd_Per_Clm_2019              4205\n",
            "Avg_Spnd_Per_Bene_2019             4399\n",
            "Outlier_Flag_2019                  4207\n",
            "Tot_Spndng_2020                    3258\n",
            "Tot_Dsg_Unts_2020                  3258\n",
            "Tot_Clms_2020                      3258\n",
            "Tot_Benes_2020                     3435\n",
            "Avg_Spnd_Per_Dsg_Unt_Wghtd_2020    3258\n",
            "Avg_Spnd_Per_Clm_2020              3258\n",
            "Avg_Spnd_Per_Bene_2020             3518\n",
            "Outlier_Flag_2020                  3262\n",
            "Tot_Spndng_2021                    2278\n",
            "Tot_Dsg_Unts_2021                  2278\n",
            "Tot_Clms_2021                      2278\n",
            "Tot_Benes_2021                     2590\n",
            "Avg_Spnd_Per_Dsg_Unt_Wghtd_2021    2278\n",
            "Avg_Spnd_Per_Clm_2021              2278\n",
            "Avg_Spnd_Per_Bene_2021             2612\n",
            "Outlier_Flag_2021                  2282\n",
            "Tot_Spndng_2022                    1326\n",
            "Tot_Dsg_Unts_2022                  1326\n",
            "Tot_Clms_2022                      1326\n",
            "Tot_Benes_2022                     1730\n",
            "Avg_Spnd_Per_Dsg_Unt_Wghtd_2022    1326\n",
            "Avg_Spnd_Per_Clm_2022              1326\n",
            "Avg_Spnd_Per_Bene_2022             1735\n",
            "Outlier_Flag_2022                  1335\n",
            "Tot_Spndng_2023                       0\n",
            "Tot_Dsg_Unts_2023                     0\n",
            "Tot_Clms_2023                         0\n",
            "Tot_Benes_2023                      762\n",
            "Avg_Spnd_Per_Dsg_Unt_Wghtd_2023       0\n",
            "Avg_Spnd_Per_Clm_2023                 0\n",
            "Avg_Spnd_Per_Bene_2023              762\n",
            "Outlier_Flag_2023                    13\n",
            "Chg_Avg_Spnd_Per_Dsg_Unt_22_23     1326\n",
            "CAGR_Avg_Spnd_Per_Dsg_Unt_19_23    1161\n",
            "dtype: int64\n"
          ]
        }
      ]
    },
    {
      "cell_type": "code",
      "source": [
        "print(\"\\ Preview top rows:\")\n",
        "df.head()"
      ],
      "metadata": {
        "id": "9ZtfZXZp9Oxz",
        "colab": {
          "base_uri": "https://localhost:8080/",
          "height": 464
        },
        "outputId": "e1e79835-cdbc-4f00-c54b-962a8e9e3e91"
      },
      "execution_count": 9,
      "outputs": [
        {
          "output_type": "stream",
          "name": "stdout",
          "text": [
            "\\ Preview top rows:\n"
          ]
        },
        {
          "output_type": "execute_result",
          "data": {
            "text/plain": [
              "                       Brnd_Name             Gnrc_Name  Tot_Mftr  \\\n",
              "0       1st Tier Unifine Pentips  Pen Needle, Diabetic         1   \n",
              "1       1st Tier Unifine Pentips  Pen Needle, Diabetic         1   \n",
              "2  1st Tier Unifine Pentips Plus  Pen Needle, Diabetic         1   \n",
              "3  1st Tier Unifine Pentips Plus  Pen Needle, Diabetic         1   \n",
              "4                       Abacavir      Abacavir Sulfate         5   \n",
              "\n",
              "         Mftr_Name  Tot_Spndng_2019  Tot_Dsg_Unts_2019  Tot_Clms_2019  \\\n",
              "0          Overall        139201.68           642471.0         5392.0   \n",
              "1  Owen Mumford Us        139201.68           642471.0         5392.0   \n",
              "2          Overall        343031.42          1830596.0        14581.0   \n",
              "3  Owen Mumford Us        343031.42          1830596.0        14581.0   \n",
              "4          Overall      10110328.45          3316293.0        42629.0   \n",
              "\n",
              "   Tot_Benes_2019  Avg_Spnd_Per_Dsg_Unt_Wghtd_2019  Avg_Spnd_Per_Clm_2019  \\\n",
              "0          1878.0                         0.216788              25.816335   \n",
              "1          1878.0                         0.216788              25.816335   \n",
              "2          5319.0                         0.187389              23.525919   \n",
              "3          5319.0                         0.187389              23.525919   \n",
              "4          6085.0                         3.482725             237.170200   \n",
              "\n",
              "   ...  Tot_Spndng_2023  Tot_Dsg_Unts_2023  Tot_Clms_2023  Tot_Benes_2023  \\\n",
              "0  ...         44355.04           195672.0           1613           699.0   \n",
              "1  ...         44355.04           195672.0           1613           699.0   \n",
              "2  ...         97951.18           406617.0           3269          1267.0   \n",
              "3  ...         97951.18           406617.0           3269          1267.0   \n",
              "4  ...       5287295.41          1648593.0          19632          2809.0   \n",
              "\n",
              "   Avg_Spnd_Per_Dsg_Unt_Wghtd_2023  Avg_Spnd_Per_Clm_2023  \\\n",
              "0                         0.227162              27.498475   \n",
              "1                         0.227162              27.498475   \n",
              "2                         0.240932              29.963652   \n",
              "3                         0.240932              29.963652   \n",
              "4                         3.594357             269.320263   \n",
              "\n",
              "   Avg_Spnd_Per_Bene_2023  Outlier_Flag_2023  Chg_Avg_Spnd_Per_Dsg_Unt_22_23  \\\n",
              "0               63.454993                0.0                        0.005702   \n",
              "1               63.454993                0.0                        0.005702   \n",
              "2               77.309534                0.0                        0.022165   \n",
              "3               77.309534                0.0                        0.022165   \n",
              "4             1882.269637                0.0                       -0.071481   \n",
              "\n",
              "   CAGR_Avg_Spnd_Per_Dsg_Unt_19_23  \n",
              "0                         0.011754  \n",
              "1                         0.011754  \n",
              "2                         0.064848  \n",
              "3                         0.064848  \n",
              "4                         0.007919  \n",
              "\n",
              "[5 rows x 46 columns]"
            ],
            "text/html": [
              "\n",
              "  <div id=\"df-def8c122-e5a9-4903-8756-4c343cb2e707\" class=\"colab-df-container\">\n",
              "    <div>\n",
              "<style scoped>\n",
              "    .dataframe tbody tr th:only-of-type {\n",
              "        vertical-align: middle;\n",
              "    }\n",
              "\n",
              "    .dataframe tbody tr th {\n",
              "        vertical-align: top;\n",
              "    }\n",
              "\n",
              "    .dataframe thead th {\n",
              "        text-align: right;\n",
              "    }\n",
              "</style>\n",
              "<table border=\"1\" class=\"dataframe\">\n",
              "  <thead>\n",
              "    <tr style=\"text-align: right;\">\n",
              "      <th></th>\n",
              "      <th>Brnd_Name</th>\n",
              "      <th>Gnrc_Name</th>\n",
              "      <th>Tot_Mftr</th>\n",
              "      <th>Mftr_Name</th>\n",
              "      <th>Tot_Spndng_2019</th>\n",
              "      <th>Tot_Dsg_Unts_2019</th>\n",
              "      <th>Tot_Clms_2019</th>\n",
              "      <th>Tot_Benes_2019</th>\n",
              "      <th>Avg_Spnd_Per_Dsg_Unt_Wghtd_2019</th>\n",
              "      <th>Avg_Spnd_Per_Clm_2019</th>\n",
              "      <th>...</th>\n",
              "      <th>Tot_Spndng_2023</th>\n",
              "      <th>Tot_Dsg_Unts_2023</th>\n",
              "      <th>Tot_Clms_2023</th>\n",
              "      <th>Tot_Benes_2023</th>\n",
              "      <th>Avg_Spnd_Per_Dsg_Unt_Wghtd_2023</th>\n",
              "      <th>Avg_Spnd_Per_Clm_2023</th>\n",
              "      <th>Avg_Spnd_Per_Bene_2023</th>\n",
              "      <th>Outlier_Flag_2023</th>\n",
              "      <th>Chg_Avg_Spnd_Per_Dsg_Unt_22_23</th>\n",
              "      <th>CAGR_Avg_Spnd_Per_Dsg_Unt_19_23</th>\n",
              "    </tr>\n",
              "  </thead>\n",
              "  <tbody>\n",
              "    <tr>\n",
              "      <th>0</th>\n",
              "      <td>1st Tier Unifine Pentips</td>\n",
              "      <td>Pen Needle, Diabetic</td>\n",
              "      <td>1</td>\n",
              "      <td>Overall</td>\n",
              "      <td>139201.68</td>\n",
              "      <td>642471.0</td>\n",
              "      <td>5392.0</td>\n",
              "      <td>1878.0</td>\n",
              "      <td>0.216788</td>\n",
              "      <td>25.816335</td>\n",
              "      <td>...</td>\n",
              "      <td>44355.04</td>\n",
              "      <td>195672.0</td>\n",
              "      <td>1613</td>\n",
              "      <td>699.0</td>\n",
              "      <td>0.227162</td>\n",
              "      <td>27.498475</td>\n",
              "      <td>63.454993</td>\n",
              "      <td>0.0</td>\n",
              "      <td>0.005702</td>\n",
              "      <td>0.011754</td>\n",
              "    </tr>\n",
              "    <tr>\n",
              "      <th>1</th>\n",
              "      <td>1st Tier Unifine Pentips</td>\n",
              "      <td>Pen Needle, Diabetic</td>\n",
              "      <td>1</td>\n",
              "      <td>Owen Mumford Us</td>\n",
              "      <td>139201.68</td>\n",
              "      <td>642471.0</td>\n",
              "      <td>5392.0</td>\n",
              "      <td>1878.0</td>\n",
              "      <td>0.216788</td>\n",
              "      <td>25.816335</td>\n",
              "      <td>...</td>\n",
              "      <td>44355.04</td>\n",
              "      <td>195672.0</td>\n",
              "      <td>1613</td>\n",
              "      <td>699.0</td>\n",
              "      <td>0.227162</td>\n",
              "      <td>27.498475</td>\n",
              "      <td>63.454993</td>\n",
              "      <td>0.0</td>\n",
              "      <td>0.005702</td>\n",
              "      <td>0.011754</td>\n",
              "    </tr>\n",
              "    <tr>\n",
              "      <th>2</th>\n",
              "      <td>1st Tier Unifine Pentips Plus</td>\n",
              "      <td>Pen Needle, Diabetic</td>\n",
              "      <td>1</td>\n",
              "      <td>Overall</td>\n",
              "      <td>343031.42</td>\n",
              "      <td>1830596.0</td>\n",
              "      <td>14581.0</td>\n",
              "      <td>5319.0</td>\n",
              "      <td>0.187389</td>\n",
              "      <td>23.525919</td>\n",
              "      <td>...</td>\n",
              "      <td>97951.18</td>\n",
              "      <td>406617.0</td>\n",
              "      <td>3269</td>\n",
              "      <td>1267.0</td>\n",
              "      <td>0.240932</td>\n",
              "      <td>29.963652</td>\n",
              "      <td>77.309534</td>\n",
              "      <td>0.0</td>\n",
              "      <td>0.022165</td>\n",
              "      <td>0.064848</td>\n",
              "    </tr>\n",
              "    <tr>\n",
              "      <th>3</th>\n",
              "      <td>1st Tier Unifine Pentips Plus</td>\n",
              "      <td>Pen Needle, Diabetic</td>\n",
              "      <td>1</td>\n",
              "      <td>Owen Mumford Us</td>\n",
              "      <td>343031.42</td>\n",
              "      <td>1830596.0</td>\n",
              "      <td>14581.0</td>\n",
              "      <td>5319.0</td>\n",
              "      <td>0.187389</td>\n",
              "      <td>23.525919</td>\n",
              "      <td>...</td>\n",
              "      <td>97951.18</td>\n",
              "      <td>406617.0</td>\n",
              "      <td>3269</td>\n",
              "      <td>1267.0</td>\n",
              "      <td>0.240932</td>\n",
              "      <td>29.963652</td>\n",
              "      <td>77.309534</td>\n",
              "      <td>0.0</td>\n",
              "      <td>0.022165</td>\n",
              "      <td>0.064848</td>\n",
              "    </tr>\n",
              "    <tr>\n",
              "      <th>4</th>\n",
              "      <td>Abacavir</td>\n",
              "      <td>Abacavir Sulfate</td>\n",
              "      <td>5</td>\n",
              "      <td>Overall</td>\n",
              "      <td>10110328.45</td>\n",
              "      <td>3316293.0</td>\n",
              "      <td>42629.0</td>\n",
              "      <td>6085.0</td>\n",
              "      <td>3.482725</td>\n",
              "      <td>237.170200</td>\n",
              "      <td>...</td>\n",
              "      <td>5287295.41</td>\n",
              "      <td>1648593.0</td>\n",
              "      <td>19632</td>\n",
              "      <td>2809.0</td>\n",
              "      <td>3.594357</td>\n",
              "      <td>269.320263</td>\n",
              "      <td>1882.269637</td>\n",
              "      <td>0.0</td>\n",
              "      <td>-0.071481</td>\n",
              "      <td>0.007919</td>\n",
              "    </tr>\n",
              "  </tbody>\n",
              "</table>\n",
              "<p>5 rows × 46 columns</p>\n",
              "</div>\n",
              "    <div class=\"colab-df-buttons\">\n",
              "\n",
              "  <div class=\"colab-df-container\">\n",
              "    <button class=\"colab-df-convert\" onclick=\"convertToInteractive('df-def8c122-e5a9-4903-8756-4c343cb2e707')\"\n",
              "            title=\"Convert this dataframe to an interactive table.\"\n",
              "            style=\"display:none;\">\n",
              "\n",
              "  <svg xmlns=\"http://www.w3.org/2000/svg\" height=\"24px\" viewBox=\"0 -960 960 960\">\n",
              "    <path d=\"M120-120v-720h720v720H120Zm60-500h600v-160H180v160Zm220 220h160v-160H400v160Zm0 220h160v-160H400v160ZM180-400h160v-160H180v160Zm440 0h160v-160H620v160ZM180-180h160v-160H180v160Zm440 0h160v-160H620v160Z\"/>\n",
              "  </svg>\n",
              "    </button>\n",
              "\n",
              "  <style>\n",
              "    .colab-df-container {\n",
              "      display:flex;\n",
              "      gap: 12px;\n",
              "    }\n",
              "\n",
              "    .colab-df-convert {\n",
              "      background-color: #E8F0FE;\n",
              "      border: none;\n",
              "      border-radius: 50%;\n",
              "      cursor: pointer;\n",
              "      display: none;\n",
              "      fill: #1967D2;\n",
              "      height: 32px;\n",
              "      padding: 0 0 0 0;\n",
              "      width: 32px;\n",
              "    }\n",
              "\n",
              "    .colab-df-convert:hover {\n",
              "      background-color: #E2EBFA;\n",
              "      box-shadow: 0px 1px 2px rgba(60, 64, 67, 0.3), 0px 1px 3px 1px rgba(60, 64, 67, 0.15);\n",
              "      fill: #174EA6;\n",
              "    }\n",
              "\n",
              "    .colab-df-buttons div {\n",
              "      margin-bottom: 4px;\n",
              "    }\n",
              "\n",
              "    [theme=dark] .colab-df-convert {\n",
              "      background-color: #3B4455;\n",
              "      fill: #D2E3FC;\n",
              "    }\n",
              "\n",
              "    [theme=dark] .colab-df-convert:hover {\n",
              "      background-color: #434B5C;\n",
              "      box-shadow: 0px 1px 3px 1px rgba(0, 0, 0, 0.15);\n",
              "      filter: drop-shadow(0px 1px 2px rgba(0, 0, 0, 0.3));\n",
              "      fill: #FFFFFF;\n",
              "    }\n",
              "  </style>\n",
              "\n",
              "    <script>\n",
              "      const buttonEl =\n",
              "        document.querySelector('#df-def8c122-e5a9-4903-8756-4c343cb2e707 button.colab-df-convert');\n",
              "      buttonEl.style.display =\n",
              "        google.colab.kernel.accessAllowed ? 'block' : 'none';\n",
              "\n",
              "      async function convertToInteractive(key) {\n",
              "        const element = document.querySelector('#df-def8c122-e5a9-4903-8756-4c343cb2e707');\n",
              "        const dataTable =\n",
              "          await google.colab.kernel.invokeFunction('convertToInteractive',\n",
              "                                                    [key], {});\n",
              "        if (!dataTable) return;\n",
              "\n",
              "        const docLinkHtml = 'Like what you see? Visit the ' +\n",
              "          '<a target=\"_blank\" href=https://colab.research.google.com/notebooks/data_table.ipynb>data table notebook</a>'\n",
              "          + ' to learn more about interactive tables.';\n",
              "        element.innerHTML = '';\n",
              "        dataTable['output_type'] = 'display_data';\n",
              "        await google.colab.output.renderOutput(dataTable, element);\n",
              "        const docLink = document.createElement('div');\n",
              "        docLink.innerHTML = docLinkHtml;\n",
              "        element.appendChild(docLink);\n",
              "      }\n",
              "    </script>\n",
              "  </div>\n",
              "\n",
              "\n",
              "    <div id=\"df-5e72e424-395f-49ca-9419-31b8c6c946e5\">\n",
              "      <button class=\"colab-df-quickchart\" onclick=\"quickchart('df-5e72e424-395f-49ca-9419-31b8c6c946e5')\"\n",
              "                title=\"Suggest charts\"\n",
              "                style=\"display:none;\">\n",
              "\n",
              "<svg xmlns=\"http://www.w3.org/2000/svg\" height=\"24px\"viewBox=\"0 0 24 24\"\n",
              "     width=\"24px\">\n",
              "    <g>\n",
              "        <path d=\"M19 3H5c-1.1 0-2 .9-2 2v14c0 1.1.9 2 2 2h14c1.1 0 2-.9 2-2V5c0-1.1-.9-2-2-2zM9 17H7v-7h2v7zm4 0h-2V7h2v10zm4 0h-2v-4h2v4z\"/>\n",
              "    </g>\n",
              "</svg>\n",
              "      </button>\n",
              "\n",
              "<style>\n",
              "  .colab-df-quickchart {\n",
              "      --bg-color: #E8F0FE;\n",
              "      --fill-color: #1967D2;\n",
              "      --hover-bg-color: #E2EBFA;\n",
              "      --hover-fill-color: #174EA6;\n",
              "      --disabled-fill-color: #AAA;\n",
              "      --disabled-bg-color: #DDD;\n",
              "  }\n",
              "\n",
              "  [theme=dark] .colab-df-quickchart {\n",
              "      --bg-color: #3B4455;\n",
              "      --fill-color: #D2E3FC;\n",
              "      --hover-bg-color: #434B5C;\n",
              "      --hover-fill-color: #FFFFFF;\n",
              "      --disabled-bg-color: #3B4455;\n",
              "      --disabled-fill-color: #666;\n",
              "  }\n",
              "\n",
              "  .colab-df-quickchart {\n",
              "    background-color: var(--bg-color);\n",
              "    border: none;\n",
              "    border-radius: 50%;\n",
              "    cursor: pointer;\n",
              "    display: none;\n",
              "    fill: var(--fill-color);\n",
              "    height: 32px;\n",
              "    padding: 0;\n",
              "    width: 32px;\n",
              "  }\n",
              "\n",
              "  .colab-df-quickchart:hover {\n",
              "    background-color: var(--hover-bg-color);\n",
              "    box-shadow: 0 1px 2px rgba(60, 64, 67, 0.3), 0 1px 3px 1px rgba(60, 64, 67, 0.15);\n",
              "    fill: var(--button-hover-fill-color);\n",
              "  }\n",
              "\n",
              "  .colab-df-quickchart-complete:disabled,\n",
              "  .colab-df-quickchart-complete:disabled:hover {\n",
              "    background-color: var(--disabled-bg-color);\n",
              "    fill: var(--disabled-fill-color);\n",
              "    box-shadow: none;\n",
              "  }\n",
              "\n",
              "  .colab-df-spinner {\n",
              "    border: 2px solid var(--fill-color);\n",
              "    border-color: transparent;\n",
              "    border-bottom-color: var(--fill-color);\n",
              "    animation:\n",
              "      spin 1s steps(1) infinite;\n",
              "  }\n",
              "\n",
              "  @keyframes spin {\n",
              "    0% {\n",
              "      border-color: transparent;\n",
              "      border-bottom-color: var(--fill-color);\n",
              "      border-left-color: var(--fill-color);\n",
              "    }\n",
              "    20% {\n",
              "      border-color: transparent;\n",
              "      border-left-color: var(--fill-color);\n",
              "      border-top-color: var(--fill-color);\n",
              "    }\n",
              "    30% {\n",
              "      border-color: transparent;\n",
              "      border-left-color: var(--fill-color);\n",
              "      border-top-color: var(--fill-color);\n",
              "      border-right-color: var(--fill-color);\n",
              "    }\n",
              "    40% {\n",
              "      border-color: transparent;\n",
              "      border-right-color: var(--fill-color);\n",
              "      border-top-color: var(--fill-color);\n",
              "    }\n",
              "    60% {\n",
              "      border-color: transparent;\n",
              "      border-right-color: var(--fill-color);\n",
              "    }\n",
              "    80% {\n",
              "      border-color: transparent;\n",
              "      border-right-color: var(--fill-color);\n",
              "      border-bottom-color: var(--fill-color);\n",
              "    }\n",
              "    90% {\n",
              "      border-color: transparent;\n",
              "      border-bottom-color: var(--fill-color);\n",
              "    }\n",
              "  }\n",
              "</style>\n",
              "\n",
              "      <script>\n",
              "        async function quickchart(key) {\n",
              "          const quickchartButtonEl =\n",
              "            document.querySelector('#' + key + ' button');\n",
              "          quickchartButtonEl.disabled = true;  // To prevent multiple clicks.\n",
              "          quickchartButtonEl.classList.add('colab-df-spinner');\n",
              "          try {\n",
              "            const charts = await google.colab.kernel.invokeFunction(\n",
              "                'suggestCharts', [key], {});\n",
              "          } catch (error) {\n",
              "            console.error('Error during call to suggestCharts:', error);\n",
              "          }\n",
              "          quickchartButtonEl.classList.remove('colab-df-spinner');\n",
              "          quickchartButtonEl.classList.add('colab-df-quickchart-complete');\n",
              "        }\n",
              "        (() => {\n",
              "          let quickchartButtonEl =\n",
              "            document.querySelector('#df-5e72e424-395f-49ca-9419-31b8c6c946e5 button');\n",
              "          quickchartButtonEl.style.display =\n",
              "            google.colab.kernel.accessAllowed ? 'block' : 'none';\n",
              "        })();\n",
              "      </script>\n",
              "    </div>\n",
              "\n",
              "    </div>\n",
              "  </div>\n"
            ],
            "application/vnd.google.colaboratory.intrinsic+json": {
              "type": "dataframe",
              "variable_name": "df"
            }
          },
          "metadata": {},
          "execution_count": 9
        }
      ]
    },
    {
      "cell_type": "code",
      "source": [
        "# Show detailed structure of the data\n",
        "print(\"📄 Dataset Info:\\n\")\n",
        "df.info()"
      ],
      "metadata": {
        "id": "QZ3i9fDNFbyC",
        "colab": {
          "base_uri": "https://localhost:8080/"
        },
        "outputId": "7701b0aa-809a-4f03-dac6-09f0a5ae1bd4"
      },
      "execution_count": 10,
      "outputs": [
        {
          "output_type": "stream",
          "name": "stdout",
          "text": [
            "📄 Dataset Info:\n",
            "\n",
            "<class 'pandas.core.frame.DataFrame'>\n",
            "RangeIndex: 14309 entries, 0 to 14308\n",
            "Data columns (total 46 columns):\n",
            " #   Column                           Non-Null Count  Dtype  \n",
            "---  ------                           --------------  -----  \n",
            " 0   Brnd_Name                        14309 non-null  object \n",
            " 1   Gnrc_Name                        14309 non-null  object \n",
            " 2   Tot_Mftr                         14309 non-null  int64  \n",
            " 3   Mftr_Name                        14309 non-null  object \n",
            " 4   Tot_Spndng_2019                  10104 non-null  float64\n",
            " 5   Tot_Dsg_Unts_2019                10104 non-null  float64\n",
            " 6   Tot_Clms_2019                    10104 non-null  float64\n",
            " 7   Tot_Benes_2019                   10017 non-null  float64\n",
            " 8   Avg_Spnd_Per_Dsg_Unt_Wghtd_2019  10104 non-null  float64\n",
            " 9   Avg_Spnd_Per_Clm_2019            10104 non-null  float64\n",
            " 10  Avg_Spnd_Per_Bene_2019           9910 non-null   float64\n",
            " 11  Outlier_Flag_2019                10102 non-null  float64\n",
            " 12  Tot_Spndng_2020                  11051 non-null  float64\n",
            " 13  Tot_Dsg_Unts_2020                11051 non-null  float64\n",
            " 14  Tot_Clms_2020                    11051 non-null  float64\n",
            " 15  Tot_Benes_2020                   10874 non-null  float64\n",
            " 16  Avg_Spnd_Per_Dsg_Unt_Wghtd_2020  11051 non-null  float64\n",
            " 17  Avg_Spnd_Per_Clm_2020            11051 non-null  float64\n",
            " 18  Avg_Spnd_Per_Bene_2020           10791 non-null  float64\n",
            " 19  Outlier_Flag_2020                11047 non-null  float64\n",
            " 20  Tot_Spndng_2021                  12031 non-null  float64\n",
            " 21  Tot_Dsg_Unts_2021                12031 non-null  float64\n",
            " 22  Tot_Clms_2021                    12031 non-null  float64\n",
            " 23  Tot_Benes_2021                   11719 non-null  float64\n",
            " 24  Avg_Spnd_Per_Dsg_Unt_Wghtd_2021  12031 non-null  float64\n",
            " 25  Avg_Spnd_Per_Clm_2021            12031 non-null  float64\n",
            " 26  Avg_Spnd_Per_Bene_2021           11697 non-null  float64\n",
            " 27  Outlier_Flag_2021                12027 non-null  float64\n",
            " 28  Tot_Spndng_2022                  12983 non-null  float64\n",
            " 29  Tot_Dsg_Unts_2022                12983 non-null  float64\n",
            " 30  Tot_Clms_2022                    12983 non-null  float64\n",
            " 31  Tot_Benes_2022                   12579 non-null  float64\n",
            " 32  Avg_Spnd_Per_Dsg_Unt_Wghtd_2022  12983 non-null  float64\n",
            " 33  Avg_Spnd_Per_Clm_2022            12983 non-null  float64\n",
            " 34  Avg_Spnd_Per_Bene_2022           12574 non-null  float64\n",
            " 35  Outlier_Flag_2022                12974 non-null  float64\n",
            " 36  Tot_Spndng_2023                  14309 non-null  float64\n",
            " 37  Tot_Dsg_Unts_2023                14309 non-null  float64\n",
            " 38  Tot_Clms_2023                    14309 non-null  int64  \n",
            " 39  Tot_Benes_2023                   13547 non-null  float64\n",
            " 40  Avg_Spnd_Per_Dsg_Unt_Wghtd_2023  14309 non-null  float64\n",
            " 41  Avg_Spnd_Per_Clm_2023            14309 non-null  float64\n",
            " 42  Avg_Spnd_Per_Bene_2023           13547 non-null  float64\n",
            " 43  Outlier_Flag_2023                14296 non-null  float64\n",
            " 44  Chg_Avg_Spnd_Per_Dsg_Unt_22_23   12983 non-null  float64\n",
            " 45  CAGR_Avg_Spnd_Per_Dsg_Unt_19_23  13148 non-null  float64\n",
            "dtypes: float64(41), int64(2), object(3)\n",
            "memory usage: 5.0+ MB\n"
          ]
        }
      ]
    },
    {
      "cell_type": "markdown",
      "source": [
        "What have Discovered So Far\n",
        "\n",
        "- Loaded the Medicare Part D Spending by Drug dataset with 14,309 rows and 46 columns.\n",
        "\n",
        "- The dataset includes drug-level cost, usage, and spending metrics from 2019 to 2023.\n",
        "\n",
        "- Column names follow a clear time-based pattern (e.g., Tot_Spndng_2021, Outlier_Flag_2022).\n",
        "\n",
        "- Some fields like brand name, generic name, and manufacturer are non-null and reliable anchors for grouping.\n",
        "\n",
        "- Missing values increase as we go back in time, especially in 2019 and 2020.\n",
        "\n",
        "- 2023 data is most complete, while older years show partial coverage likely due to drugs entering or exiting the market.\n",
        "\n",
        "- will avoid dropping rows unnecessarily and instead focus on selective dropping and proper imputation."
      ],
      "metadata": {
        "id": "Xs8wrWHf_IZL"
      }
    },
    {
      "cell_type": "markdown",
      "source": [
        "**Handling Missing Values**"
      ],
      "metadata": {
        "id": "AsPTW0lp_piz"
      }
    },
    {
      "cell_type": "code",
      "source": [
        "# Count total rows\n",
        "total_rows = df.shape[0]"
      ],
      "metadata": {
        "id": "lAI-vQUt9VGK"
      },
      "execution_count": 11,
      "outputs": []
    },
    {
      "cell_type": "code",
      "source": [
        "#  See null percentages\n",
        "null_percent = df.isnull().sum() / total_rows * 100\n",
        "print(\"🔍 Percentage of missing data per column:\\n\")\n",
        "print(null_percent[null_percent > 0].sort_values(ascending=False))"
      ],
      "metadata": {
        "id": "dD_doodc_vai",
        "colab": {
          "base_uri": "https://localhost:8080/"
        },
        "outputId": "b5c16c70-d72f-4a2f-cde3-f8a42870180c"
      },
      "execution_count": 12,
      "outputs": [
        {
          "output_type": "stream",
          "name": "stdout",
          "text": [
            "🔍 Percentage of missing data per column:\n",
            "\n",
            "Avg_Spnd_Per_Bene_2019             30.742889\n",
            "Tot_Benes_2019                     29.995108\n",
            "Outlier_Flag_2019                  29.401076\n",
            "Tot_Spndng_2019                    29.387099\n",
            "Tot_Dsg_Unts_2019                  29.387099\n",
            "Avg_Spnd_Per_Dsg_Unt_Wghtd_2019    29.387099\n",
            "Tot_Clms_2019                      29.387099\n",
            "Avg_Spnd_Per_Clm_2019              29.387099\n",
            "Avg_Spnd_Per_Bene_2020             24.585925\n",
            "Tot_Benes_2020                     24.005870\n",
            "Outlier_Flag_2020                  22.796841\n",
            "Tot_Spndng_2020                    22.768887\n",
            "Tot_Dsg_Unts_2020                  22.768887\n",
            "Avg_Spnd_Per_Dsg_Unt_Wghtd_2020    22.768887\n",
            "Tot_Clms_2020                      22.768887\n",
            "Avg_Spnd_Per_Clm_2020              22.768887\n",
            "Avg_Spnd_Per_Bene_2021             18.254246\n",
            "Tot_Benes_2021                     18.100496\n",
            "Outlier_Flag_2021                  15.948005\n",
            "Tot_Spndng_2021                    15.920050\n",
            "Tot_Dsg_Unts_2021                  15.920050\n",
            "Avg_Spnd_Per_Dsg_Unt_Wghtd_2021    15.920050\n",
            "Tot_Clms_2021                      15.920050\n",
            "Avg_Spnd_Per_Clm_2021              15.920050\n",
            "Avg_Spnd_Per_Bene_2022             12.125236\n",
            "Tot_Benes_2022                     12.090293\n",
            "Outlier_Flag_2022                   9.329792\n",
            "Tot_Spndng_2022                     9.266895\n",
            "Tot_Dsg_Unts_2022                   9.266895\n",
            "Avg_Spnd_Per_Dsg_Unt_Wghtd_2022     9.266895\n",
            "Tot_Clms_2022                       9.266895\n",
            "Avg_Spnd_Per_Clm_2022               9.266895\n",
            "Chg_Avg_Spnd_Per_Dsg_Unt_22_23      9.266895\n",
            "CAGR_Avg_Spnd_Per_Dsg_Unt_19_23     8.113775\n",
            "Tot_Benes_2023                      5.325320\n",
            "Avg_Spnd_Per_Bene_2023              5.325320\n",
            "Outlier_Flag_2023                   0.090852\n",
            "dtype: float64\n"
          ]
        }
      ]
    },
    {
      "cell_type": "code",
      "source": [
        "#  Drop columns with >50% missing data\n",
        "threshold = 50\n",
        "cols_to_drop = null_percent[null_percent > threshold].index.tolist()\n",
        "print(f\"\\n🧹 Dropping columns with >{threshold}% missing values:\\n{cols_to_drop}\")\n",
        "\n",
        "df_cleaned = df.drop(columns=cols_to_drop)\n"
      ],
      "metadata": {
        "id": "J-BjBjMG_-0S",
        "colab": {
          "base_uri": "https://localhost:8080/"
        },
        "outputId": "b9a5c42c-f740-4866-ad1a-ffeb44dfe043"
      },
      "execution_count": 13,
      "outputs": [
        {
          "output_type": "stream",
          "name": "stdout",
          "text": [
            "\n",
            "🧹 Dropping columns with >50% missing values:\n",
            "[]\n"
          ]
        }
      ]
    },
    {
      "cell_type": "code",
      "source": [
        "# Impute numerical missing values (median by year if possible)\n",
        "numeric_cols = df_cleaned.select_dtypes(include=['float64', 'int64']).columns.tolist()\n",
        "\n",
        "for col in numeric_cols:\n",
        "    if df_cleaned[col].isnull().sum() > 0:\n",
        "        median_val = df_cleaned[col].median()\n",
        "        df_cleaned[col].fillna(median_val, inplace=True)\n",
        "\n",
        "print(\"\\n✅ Missing values handled. Cleaned shape:\", df_cleaned.shape)"
      ],
      "metadata": {
        "id": "ta_tI7XCAYFy",
        "colab": {
          "base_uri": "https://localhost:8080/"
        },
        "outputId": "e65ca5f1-f71a-411a-f793-91f71a79c561"
      },
      "execution_count": 14,
      "outputs": [
        {
          "output_type": "stream",
          "name": "stdout",
          "text": [
            "\n",
            "✅ Missing values handled. Cleaned shape: (14309, 46)\n"
          ]
        }
      ]
    },
    {
      "cell_type": "code",
      "source": [
        "# ✅ Confirm no missing values remain\n",
        "print(\"\\n📋 Final Missing Value Check (per column):\\n\")\n",
        "missing_check = df_cleaned.isnull().sum()\n",
        "for col, count in missing_check.items():\n",
        "    print(f\"{col}: {count}\")\n"
      ],
      "metadata": {
        "id": "vY6cC4ZAAljy",
        "colab": {
          "base_uri": "https://localhost:8080/"
        },
        "outputId": "ed26242d-406b-462c-8f1a-dad4d2e74399"
      },
      "execution_count": 15,
      "outputs": [
        {
          "output_type": "stream",
          "name": "stdout",
          "text": [
            "\n",
            "📋 Final Missing Value Check (per column):\n",
            "\n",
            "Brnd_Name: 0\n",
            "Gnrc_Name: 0\n",
            "Tot_Mftr: 0\n",
            "Mftr_Name: 0\n",
            "Tot_Spndng_2019: 0\n",
            "Tot_Dsg_Unts_2019: 0\n",
            "Tot_Clms_2019: 0\n",
            "Tot_Benes_2019: 0\n",
            "Avg_Spnd_Per_Dsg_Unt_Wghtd_2019: 0\n",
            "Avg_Spnd_Per_Clm_2019: 0\n",
            "Avg_Spnd_Per_Bene_2019: 0\n",
            "Outlier_Flag_2019: 0\n",
            "Tot_Spndng_2020: 0\n",
            "Tot_Dsg_Unts_2020: 0\n",
            "Tot_Clms_2020: 0\n",
            "Tot_Benes_2020: 0\n",
            "Avg_Spnd_Per_Dsg_Unt_Wghtd_2020: 0\n",
            "Avg_Spnd_Per_Clm_2020: 0\n",
            "Avg_Spnd_Per_Bene_2020: 0\n",
            "Outlier_Flag_2020: 0\n",
            "Tot_Spndng_2021: 0\n",
            "Tot_Dsg_Unts_2021: 0\n",
            "Tot_Clms_2021: 0\n",
            "Tot_Benes_2021: 0\n",
            "Avg_Spnd_Per_Dsg_Unt_Wghtd_2021: 0\n",
            "Avg_Spnd_Per_Clm_2021: 0\n",
            "Avg_Spnd_Per_Bene_2021: 0\n",
            "Outlier_Flag_2021: 0\n",
            "Tot_Spndng_2022: 0\n",
            "Tot_Dsg_Unts_2022: 0\n",
            "Tot_Clms_2022: 0\n",
            "Tot_Benes_2022: 0\n",
            "Avg_Spnd_Per_Dsg_Unt_Wghtd_2022: 0\n",
            "Avg_Spnd_Per_Clm_2022: 0\n",
            "Avg_Spnd_Per_Bene_2022: 0\n",
            "Outlier_Flag_2022: 0\n",
            "Tot_Spndng_2023: 0\n",
            "Tot_Dsg_Unts_2023: 0\n",
            "Tot_Clms_2023: 0\n",
            "Tot_Benes_2023: 0\n",
            "Avg_Spnd_Per_Dsg_Unt_Wghtd_2023: 0\n",
            "Avg_Spnd_Per_Clm_2023: 0\n",
            "Avg_Spnd_Per_Bene_2023: 0\n",
            "Outlier_Flag_2023: 0\n",
            "Chg_Avg_Spnd_Per_Dsg_Unt_22_23: 0\n",
            "CAGR_Avg_Spnd_Per_Dsg_Unt_19_23: 0\n"
          ]
        }
      ]
    },
    {
      "cell_type": "code",
      "source": [
        "# Drop Duplicate Rows\n",
        "print(\"🔎 Before deduplication:\", df_cleaned.shape)\n",
        "df_cleaned = df_cleaned.drop_duplicates()\n",
        "print(\"✅ After deduplication:\", df_cleaned.shape)"
      ],
      "metadata": {
        "id": "hF-kwNCDA8z6",
        "colab": {
          "base_uri": "https://localhost:8080/"
        },
        "outputId": "64a33a97-29e6-4f59-cd64-fb7aa2c273bd"
      },
      "execution_count": 16,
      "outputs": [
        {
          "output_type": "stream",
          "name": "stdout",
          "text": [
            "🔎 Before deduplication: (14309, 46)\n",
            "✅ After deduplication: (14309, 46)\n"
          ]
        }
      ]
    },
    {
      "cell_type": "markdown",
      "source": [
        "- No duplicate rows were found in dataset"
      ],
      "metadata": {
        "id": "Zq6tyqjYCPci"
      }
    },
    {
      "cell_type": "code",
      "source": [
        "# Clean Column Names (replace spaces, unify case)\n",
        "df_cleaned.columns = df_cleaned.columns.str.strip().str.lower().str.replace(' ', '_').str.replace('-', '_')\n"
      ],
      "metadata": {
        "id": "9GerCaxeB8GC"
      },
      "execution_count": 17,
      "outputs": []
    },
    {
      "cell_type": "markdown",
      "source": [
        "- Cleans and standardizes column names for easier coding and consistency"
      ],
      "metadata": {
        "id": "4oMxRVVZCwgq"
      }
    },
    {
      "cell_type": "code",
      "source": [
        "# Standardize Manufacturer Names\n",
        "df_cleaned['mftr_name'] = df_cleaned['mftr_name'].str.strip().str.lower()\n",
        "df_cleaned['mftr_name'] = df_cleaned['mftr_name'].str.replace(r'\\s+', ' ', regex=True)\n"
      ],
      "metadata": {
        "id": "j3s2CLCKCl2K"
      },
      "execution_count": 18,
      "outputs": []
    },
    {
      "cell_type": "markdown",
      "source": [
        "- Standardizes manufacturer names by trimming spaces, converting to lowercase, and removing extra whitespace."
      ],
      "metadata": {
        "id": "NTzryYCPDKdq"
      }
    },
    {
      "cell_type": "code",
      "source": [
        "# Reshape From Wide to Long Format\n",
        "# Melt year-based metrics into long format\n",
        "id_vars = ['brnd_name', 'gnrc_name', 'tot_mftr', 'mftr_name']\n",
        "value_vars = [col for col in df_cleaned.columns if any(str(yr) in col for yr in range(2019, 2024))]\n",
        "\n",
        "df_long = pd.wide_to_long(df_cleaned, stubnames=[\n",
        "    'tot_spndng', 'tot_dsg_unts', 'tot_clms', 'tot_benes',\n",
        "    'avg_spnd_per_dsg_unt_wghtd', 'avg_spnd_per_clm', 'avg_spnd_per_bene',\n",
        "    'outlier_flag'\n",
        "], i=['brnd_name', 'gnrc_name', 'mftr_name', 'tot_mftr'], j='year', sep='_', suffix='\\d+').reset_index()\n",
        "\n",
        "print(\"🎯 Long format shape:\", df_long.shape)\n",
        "df_long.head()\n"
      ],
      "metadata": {
        "id": "xAFbwo8UDINq",
        "colab": {
          "base_uri": "https://localhost:8080/",
          "height": 417
        },
        "outputId": "8725255b-49ba-4c89-aecf-57f8c2d995eb"
      },
      "execution_count": 19,
      "outputs": [
        {
          "output_type": "stream",
          "name": "stdout",
          "text": [
            "🎯 Long format shape: (71545, 15)\n"
          ]
        },
        {
          "output_type": "execute_result",
          "data": {
            "text/plain": [
              "                  brnd_name             gnrc_name mftr_name  tot_mftr  year  \\\n",
              "0  1st Tier Unifine Pentips  Pen Needle, Diabetic   overall         1  2019   \n",
              "1  1st Tier Unifine Pentips  Pen Needle, Diabetic   overall         1  2020   \n",
              "2  1st Tier Unifine Pentips  Pen Needle, Diabetic   overall         1  2021   \n",
              "3  1st Tier Unifine Pentips  Pen Needle, Diabetic   overall         1  2022   \n",
              "4  1st Tier Unifine Pentips  Pen Needle, Diabetic   overall         1  2023   \n",
              "\n",
              "   cagr_avg_spnd_per_dsg_unt_19_23  chg_avg_spnd_per_dsg_unt_22_23  \\\n",
              "0                         0.011754                        0.005702   \n",
              "1                         0.011754                        0.005702   \n",
              "2                         0.011754                        0.005702   \n",
              "3                         0.011754                        0.005702   \n",
              "4                         0.011754                        0.005702   \n",
              "\n",
              "   tot_spndng  tot_dsg_unts  tot_clms  tot_benes  avg_spnd_per_dsg_unt_wghtd  \\\n",
              "0   139201.68      642471.0    5392.0     1878.0                    0.216788   \n",
              "1   118923.24      547006.0    4457.0     1595.0                    0.217701   \n",
              "2   102280.76      459384.0    3708.0     1313.0                    0.223001   \n",
              "3    70039.61      310304.0    2501.0     1147.0                    0.225874   \n",
              "4    44355.04      195672.0    1613.0      699.0                    0.227162   \n",
              "\n",
              "   avg_spnd_per_clm  avg_spnd_per_bene  outlier_flag  \n",
              "0         25.816335          74.122300           0.0  \n",
              "1         26.682351          74.560025           0.0  \n",
              "2         27.583808          77.898522           0.0  \n",
              "3         28.004642          61.063304           0.0  \n",
              "4         27.498475          63.454993           0.0  "
            ],
            "text/html": [
              "\n",
              "  <div id=\"df-fd21328e-f54a-4e74-8e86-475daccbab55\" class=\"colab-df-container\">\n",
              "    <div>\n",
              "<style scoped>\n",
              "    .dataframe tbody tr th:only-of-type {\n",
              "        vertical-align: middle;\n",
              "    }\n",
              "\n",
              "    .dataframe tbody tr th {\n",
              "        vertical-align: top;\n",
              "    }\n",
              "\n",
              "    .dataframe thead th {\n",
              "        text-align: right;\n",
              "    }\n",
              "</style>\n",
              "<table border=\"1\" class=\"dataframe\">\n",
              "  <thead>\n",
              "    <tr style=\"text-align: right;\">\n",
              "      <th></th>\n",
              "      <th>brnd_name</th>\n",
              "      <th>gnrc_name</th>\n",
              "      <th>mftr_name</th>\n",
              "      <th>tot_mftr</th>\n",
              "      <th>year</th>\n",
              "      <th>cagr_avg_spnd_per_dsg_unt_19_23</th>\n",
              "      <th>chg_avg_spnd_per_dsg_unt_22_23</th>\n",
              "      <th>tot_spndng</th>\n",
              "      <th>tot_dsg_unts</th>\n",
              "      <th>tot_clms</th>\n",
              "      <th>tot_benes</th>\n",
              "      <th>avg_spnd_per_dsg_unt_wghtd</th>\n",
              "      <th>avg_spnd_per_clm</th>\n",
              "      <th>avg_spnd_per_bene</th>\n",
              "      <th>outlier_flag</th>\n",
              "    </tr>\n",
              "  </thead>\n",
              "  <tbody>\n",
              "    <tr>\n",
              "      <th>0</th>\n",
              "      <td>1st Tier Unifine Pentips</td>\n",
              "      <td>Pen Needle, Diabetic</td>\n",
              "      <td>overall</td>\n",
              "      <td>1</td>\n",
              "      <td>2019</td>\n",
              "      <td>0.011754</td>\n",
              "      <td>0.005702</td>\n",
              "      <td>139201.68</td>\n",
              "      <td>642471.0</td>\n",
              "      <td>5392.0</td>\n",
              "      <td>1878.0</td>\n",
              "      <td>0.216788</td>\n",
              "      <td>25.816335</td>\n",
              "      <td>74.122300</td>\n",
              "      <td>0.0</td>\n",
              "    </tr>\n",
              "    <tr>\n",
              "      <th>1</th>\n",
              "      <td>1st Tier Unifine Pentips</td>\n",
              "      <td>Pen Needle, Diabetic</td>\n",
              "      <td>overall</td>\n",
              "      <td>1</td>\n",
              "      <td>2020</td>\n",
              "      <td>0.011754</td>\n",
              "      <td>0.005702</td>\n",
              "      <td>118923.24</td>\n",
              "      <td>547006.0</td>\n",
              "      <td>4457.0</td>\n",
              "      <td>1595.0</td>\n",
              "      <td>0.217701</td>\n",
              "      <td>26.682351</td>\n",
              "      <td>74.560025</td>\n",
              "      <td>0.0</td>\n",
              "    </tr>\n",
              "    <tr>\n",
              "      <th>2</th>\n",
              "      <td>1st Tier Unifine Pentips</td>\n",
              "      <td>Pen Needle, Diabetic</td>\n",
              "      <td>overall</td>\n",
              "      <td>1</td>\n",
              "      <td>2021</td>\n",
              "      <td>0.011754</td>\n",
              "      <td>0.005702</td>\n",
              "      <td>102280.76</td>\n",
              "      <td>459384.0</td>\n",
              "      <td>3708.0</td>\n",
              "      <td>1313.0</td>\n",
              "      <td>0.223001</td>\n",
              "      <td>27.583808</td>\n",
              "      <td>77.898522</td>\n",
              "      <td>0.0</td>\n",
              "    </tr>\n",
              "    <tr>\n",
              "      <th>3</th>\n",
              "      <td>1st Tier Unifine Pentips</td>\n",
              "      <td>Pen Needle, Diabetic</td>\n",
              "      <td>overall</td>\n",
              "      <td>1</td>\n",
              "      <td>2022</td>\n",
              "      <td>0.011754</td>\n",
              "      <td>0.005702</td>\n",
              "      <td>70039.61</td>\n",
              "      <td>310304.0</td>\n",
              "      <td>2501.0</td>\n",
              "      <td>1147.0</td>\n",
              "      <td>0.225874</td>\n",
              "      <td>28.004642</td>\n",
              "      <td>61.063304</td>\n",
              "      <td>0.0</td>\n",
              "    </tr>\n",
              "    <tr>\n",
              "      <th>4</th>\n",
              "      <td>1st Tier Unifine Pentips</td>\n",
              "      <td>Pen Needle, Diabetic</td>\n",
              "      <td>overall</td>\n",
              "      <td>1</td>\n",
              "      <td>2023</td>\n",
              "      <td>0.011754</td>\n",
              "      <td>0.005702</td>\n",
              "      <td>44355.04</td>\n",
              "      <td>195672.0</td>\n",
              "      <td>1613.0</td>\n",
              "      <td>699.0</td>\n",
              "      <td>0.227162</td>\n",
              "      <td>27.498475</td>\n",
              "      <td>63.454993</td>\n",
              "      <td>0.0</td>\n",
              "    </tr>\n",
              "  </tbody>\n",
              "</table>\n",
              "</div>\n",
              "    <div class=\"colab-df-buttons\">\n",
              "\n",
              "  <div class=\"colab-df-container\">\n",
              "    <button class=\"colab-df-convert\" onclick=\"convertToInteractive('df-fd21328e-f54a-4e74-8e86-475daccbab55')\"\n",
              "            title=\"Convert this dataframe to an interactive table.\"\n",
              "            style=\"display:none;\">\n",
              "\n",
              "  <svg xmlns=\"http://www.w3.org/2000/svg\" height=\"24px\" viewBox=\"0 -960 960 960\">\n",
              "    <path d=\"M120-120v-720h720v720H120Zm60-500h600v-160H180v160Zm220 220h160v-160H400v160Zm0 220h160v-160H400v160ZM180-400h160v-160H180v160Zm440 0h160v-160H620v160ZM180-180h160v-160H180v160Zm440 0h160v-160H620v160Z\"/>\n",
              "  </svg>\n",
              "    </button>\n",
              "\n",
              "  <style>\n",
              "    .colab-df-container {\n",
              "      display:flex;\n",
              "      gap: 12px;\n",
              "    }\n",
              "\n",
              "    .colab-df-convert {\n",
              "      background-color: #E8F0FE;\n",
              "      border: none;\n",
              "      border-radius: 50%;\n",
              "      cursor: pointer;\n",
              "      display: none;\n",
              "      fill: #1967D2;\n",
              "      height: 32px;\n",
              "      padding: 0 0 0 0;\n",
              "      width: 32px;\n",
              "    }\n",
              "\n",
              "    .colab-df-convert:hover {\n",
              "      background-color: #E2EBFA;\n",
              "      box-shadow: 0px 1px 2px rgba(60, 64, 67, 0.3), 0px 1px 3px 1px rgba(60, 64, 67, 0.15);\n",
              "      fill: #174EA6;\n",
              "    }\n",
              "\n",
              "    .colab-df-buttons div {\n",
              "      margin-bottom: 4px;\n",
              "    }\n",
              "\n",
              "    [theme=dark] .colab-df-convert {\n",
              "      background-color: #3B4455;\n",
              "      fill: #D2E3FC;\n",
              "    }\n",
              "\n",
              "    [theme=dark] .colab-df-convert:hover {\n",
              "      background-color: #434B5C;\n",
              "      box-shadow: 0px 1px 3px 1px rgba(0, 0, 0, 0.15);\n",
              "      filter: drop-shadow(0px 1px 2px rgba(0, 0, 0, 0.3));\n",
              "      fill: #FFFFFF;\n",
              "    }\n",
              "  </style>\n",
              "\n",
              "    <script>\n",
              "      const buttonEl =\n",
              "        document.querySelector('#df-fd21328e-f54a-4e74-8e86-475daccbab55 button.colab-df-convert');\n",
              "      buttonEl.style.display =\n",
              "        google.colab.kernel.accessAllowed ? 'block' : 'none';\n",
              "\n",
              "      async function convertToInteractive(key) {\n",
              "        const element = document.querySelector('#df-fd21328e-f54a-4e74-8e86-475daccbab55');\n",
              "        const dataTable =\n",
              "          await google.colab.kernel.invokeFunction('convertToInteractive',\n",
              "                                                    [key], {});\n",
              "        if (!dataTable) return;\n",
              "\n",
              "        const docLinkHtml = 'Like what you see? Visit the ' +\n",
              "          '<a target=\"_blank\" href=https://colab.research.google.com/notebooks/data_table.ipynb>data table notebook</a>'\n",
              "          + ' to learn more about interactive tables.';\n",
              "        element.innerHTML = '';\n",
              "        dataTable['output_type'] = 'display_data';\n",
              "        await google.colab.output.renderOutput(dataTable, element);\n",
              "        const docLink = document.createElement('div');\n",
              "        docLink.innerHTML = docLinkHtml;\n",
              "        element.appendChild(docLink);\n",
              "      }\n",
              "    </script>\n",
              "  </div>\n",
              "\n",
              "\n",
              "    <div id=\"df-b6252e54-8c79-4a74-a8b3-f155e02b3cbf\">\n",
              "      <button class=\"colab-df-quickchart\" onclick=\"quickchart('df-b6252e54-8c79-4a74-a8b3-f155e02b3cbf')\"\n",
              "                title=\"Suggest charts\"\n",
              "                style=\"display:none;\">\n",
              "\n",
              "<svg xmlns=\"http://www.w3.org/2000/svg\" height=\"24px\"viewBox=\"0 0 24 24\"\n",
              "     width=\"24px\">\n",
              "    <g>\n",
              "        <path d=\"M19 3H5c-1.1 0-2 .9-2 2v14c0 1.1.9 2 2 2h14c1.1 0 2-.9 2-2V5c0-1.1-.9-2-2-2zM9 17H7v-7h2v7zm4 0h-2V7h2v10zm4 0h-2v-4h2v4z\"/>\n",
              "    </g>\n",
              "</svg>\n",
              "      </button>\n",
              "\n",
              "<style>\n",
              "  .colab-df-quickchart {\n",
              "      --bg-color: #E8F0FE;\n",
              "      --fill-color: #1967D2;\n",
              "      --hover-bg-color: #E2EBFA;\n",
              "      --hover-fill-color: #174EA6;\n",
              "      --disabled-fill-color: #AAA;\n",
              "      --disabled-bg-color: #DDD;\n",
              "  }\n",
              "\n",
              "  [theme=dark] .colab-df-quickchart {\n",
              "      --bg-color: #3B4455;\n",
              "      --fill-color: #D2E3FC;\n",
              "      --hover-bg-color: #434B5C;\n",
              "      --hover-fill-color: #FFFFFF;\n",
              "      --disabled-bg-color: #3B4455;\n",
              "      --disabled-fill-color: #666;\n",
              "  }\n",
              "\n",
              "  .colab-df-quickchart {\n",
              "    background-color: var(--bg-color);\n",
              "    border: none;\n",
              "    border-radius: 50%;\n",
              "    cursor: pointer;\n",
              "    display: none;\n",
              "    fill: var(--fill-color);\n",
              "    height: 32px;\n",
              "    padding: 0;\n",
              "    width: 32px;\n",
              "  }\n",
              "\n",
              "  .colab-df-quickchart:hover {\n",
              "    background-color: var(--hover-bg-color);\n",
              "    box-shadow: 0 1px 2px rgba(60, 64, 67, 0.3), 0 1px 3px 1px rgba(60, 64, 67, 0.15);\n",
              "    fill: var(--button-hover-fill-color);\n",
              "  }\n",
              "\n",
              "  .colab-df-quickchart-complete:disabled,\n",
              "  .colab-df-quickchart-complete:disabled:hover {\n",
              "    background-color: var(--disabled-bg-color);\n",
              "    fill: var(--disabled-fill-color);\n",
              "    box-shadow: none;\n",
              "  }\n",
              "\n",
              "  .colab-df-spinner {\n",
              "    border: 2px solid var(--fill-color);\n",
              "    border-color: transparent;\n",
              "    border-bottom-color: var(--fill-color);\n",
              "    animation:\n",
              "      spin 1s steps(1) infinite;\n",
              "  }\n",
              "\n",
              "  @keyframes spin {\n",
              "    0% {\n",
              "      border-color: transparent;\n",
              "      border-bottom-color: var(--fill-color);\n",
              "      border-left-color: var(--fill-color);\n",
              "    }\n",
              "    20% {\n",
              "      border-color: transparent;\n",
              "      border-left-color: var(--fill-color);\n",
              "      border-top-color: var(--fill-color);\n",
              "    }\n",
              "    30% {\n",
              "      border-color: transparent;\n",
              "      border-left-color: var(--fill-color);\n",
              "      border-top-color: var(--fill-color);\n",
              "      border-right-color: var(--fill-color);\n",
              "    }\n",
              "    40% {\n",
              "      border-color: transparent;\n",
              "      border-right-color: var(--fill-color);\n",
              "      border-top-color: var(--fill-color);\n",
              "    }\n",
              "    60% {\n",
              "      border-color: transparent;\n",
              "      border-right-color: var(--fill-color);\n",
              "    }\n",
              "    80% {\n",
              "      border-color: transparent;\n",
              "      border-right-color: var(--fill-color);\n",
              "      border-bottom-color: var(--fill-color);\n",
              "    }\n",
              "    90% {\n",
              "      border-color: transparent;\n",
              "      border-bottom-color: var(--fill-color);\n",
              "    }\n",
              "  }\n",
              "</style>\n",
              "\n",
              "      <script>\n",
              "        async function quickchart(key) {\n",
              "          const quickchartButtonEl =\n",
              "            document.querySelector('#' + key + ' button');\n",
              "          quickchartButtonEl.disabled = true;  // To prevent multiple clicks.\n",
              "          quickchartButtonEl.classList.add('colab-df-spinner');\n",
              "          try {\n",
              "            const charts = await google.colab.kernel.invokeFunction(\n",
              "                'suggestCharts', [key], {});\n",
              "          } catch (error) {\n",
              "            console.error('Error during call to suggestCharts:', error);\n",
              "          }\n",
              "          quickchartButtonEl.classList.remove('colab-df-spinner');\n",
              "          quickchartButtonEl.classList.add('colab-df-quickchart-complete');\n",
              "        }\n",
              "        (() => {\n",
              "          let quickchartButtonEl =\n",
              "            document.querySelector('#df-b6252e54-8c79-4a74-a8b3-f155e02b3cbf button');\n",
              "          quickchartButtonEl.style.display =\n",
              "            google.colab.kernel.accessAllowed ? 'block' : 'none';\n",
              "        })();\n",
              "      </script>\n",
              "    </div>\n",
              "\n",
              "    </div>\n",
              "  </div>\n"
            ],
            "application/vnd.google.colaboratory.intrinsic+json": {
              "type": "dataframe",
              "variable_name": "df_long",
              "summary": "{\n  \"name\": \"df_long\",\n  \"rows\": 71545,\n  \"fields\": [\n    {\n      \"column\": \"brnd_name\",\n      \"properties\": {\n        \"dtype\": \"category\",\n        \"num_unique_values\": 3474,\n        \"samples\": [\n          \"Tivicay\",\n          \"Levetiracetam ER\",\n          \"Diastat Acudial\"\n        ],\n        \"semantic_type\": \"\",\n        \"description\": \"\"\n      }\n    },\n    {\n      \"column\": \"gnrc_name\",\n      \"properties\": {\n        \"dtype\": \"category\",\n        \"num_unique_values\": 1938,\n        \"samples\": [\n          \"Fluocinolone Acetonide Oil\",\n          \"Butoconazole Nitrate\",\n          \"Haloperidol\"\n        ],\n        \"semantic_type\": \"\",\n        \"description\": \"\"\n      }\n    },\n    {\n      \"column\": \"mftr_name\",\n      \"properties\": {\n        \"dtype\": \"category\",\n        \"num_unique_values\": 962,\n        \"samples\": [\n          \"roche labs.\",\n          \"jubilant cadist\",\n          \"tg therapeutics\"\n        ],\n        \"semantic_type\": \"\",\n        \"description\": \"\"\n      }\n    },\n    {\n      \"column\": \"tot_mftr\",\n      \"properties\": {\n        \"dtype\": \"number\",\n        \"std\": 2,\n        \"min\": 1,\n        \"max\": 45,\n        \"num_unique_values\": 36,\n        \"samples\": [\n          43,\n          18,\n          20\n        ],\n        \"semantic_type\": \"\",\n        \"description\": \"\"\n      }\n    },\n    {\n      \"column\": \"year\",\n      \"properties\": {\n        \"dtype\": \"number\",\n        \"std\": 1,\n        \"min\": 2019,\n        \"max\": 2023,\n        \"num_unique_values\": 5,\n        \"samples\": [\n          2020,\n          2023,\n          2021\n        ],\n        \"semantic_type\": \"\",\n        \"description\": \"\"\n      }\n    },\n    {\n      \"column\": \"cagr_avg_spnd_per_dsg_unt_19_23\",\n      \"properties\": {\n        \"dtype\": \"number\",\n        \"std\": 0.22374795751725773,\n        \"min\": -0.968500384,\n        \"max\": 13.457447038,\n        \"num_unique_values\": 10836,\n        \"samples\": [\n          0.0337469302,\n          -0.000286013,\n          -0.188560914\n        ],\n        \"semantic_type\": \"\",\n        \"description\": \"\"\n      }\n    },\n    {\n      \"column\": \"chg_avg_spnd_per_dsg_unt_22_23\",\n      \"properties\": {\n        \"dtype\": \"number\",\n        \"std\": 1.0434658257648677,\n        \"min\": -0.968500384,\n        \"max\": 99.739819068,\n        \"num_unique_values\": 10703,\n        \"samples\": [\n          -0.057548747,\n          -0.042128309,\n          0.0239617455\n        ],\n        \"semantic_type\": \"\",\n        \"description\": \"\"\n      }\n    },\n    {\n      \"column\": \"tot_spndng\",\n      \"properties\": {\n        \"dtype\": \"number\",\n        \"std\": 255065357.2498921,\n        \"min\": 26.43,\n        \"max\": 18273451967.0,\n        \"num_unique_values\": 49264,\n        \"samples\": [\n          783922.25,\n          3254507.56,\n          4578145.08\n        ],\n        \"semantic_type\": \"\",\n        \"description\": \"\"\n      }\n    },\n    {\n      \"column\": \"tot_dsg_unts\",\n      \"properties\": {\n        \"dtype\": \"number\",\n        \"std\": 112982438.79357311,\n        \"min\": 0.7,\n        \"max\": 4956622003.0,\n        \"num_unique_values\": 45401,\n        \"samples\": [\n          352793733.8,\n          577956.0,\n          772698.0\n        ],\n        \"semantic_type\": \"\",\n        \"description\": \"\"\n      }\n    },\n    {\n      \"column\": \"tot_clms\",\n      \"properties\": {\n        \"dtype\": \"number\",\n        \"std\": 1355533.7174692643,\n        \"min\": 11.0,\n        \"max\": 68493698.0,\n        \"num_unique_values\": 27737,\n        \"samples\": [\n          22696.0,\n          23371.0,\n          35569.0\n        ],\n        \"semantic_type\": \"\",\n        \"description\": \"\"\n      }\n    },\n    {\n      \"column\": \"tot_benes\",\n      \"properties\": {\n        \"dtype\": \"number\",\n        \"std\": 371691.4184969531,\n        \"min\": 11.0,\n        \"max\": 16778185.0,\n        \"num_unique_values\": 22501,\n        \"samples\": [\n          954.0,\n          15684.0,\n          42209.0\n        ],\n        \"semantic_type\": \"\",\n        \"description\": \"\"\n      }\n    },\n    {\n      \"column\": \"avg_spnd_per_dsg_unt_wghtd\",\n      \"properties\": {\n        \"dtype\": \"number\",\n        \"std\": 2355.7884129191298,\n        \"min\": 0.0002146034,\n        \"max\": 239745.72701,\n        \"num_unique_values\": 49299,\n        \"samples\": [\n          0.677288936,\n          1.020271681,\n          1.1769528554\n        ],\n        \"semantic_type\": \"\",\n        \"description\": \"\"\n      }\n    },\n    {\n      \"column\": \"avg_spnd_per_clm\",\n      \"properties\": {\n        \"dtype\": \"number\",\n        \"std\": 7754.684289125674,\n        \"min\": 0.0355552593,\n        \"max\": 347007.60481,\n        \"num_unique_values\": 49298,\n        \"samples\": [\n          41.959575685,\n          60.387000861,\n          84.99650817\n        ],\n        \"semantic_type\": \"\",\n        \"description\": \"\"\n      }\n    },\n    {\n      \"column\": \"avg_spnd_per_bene\",\n      \"properties\": {\n        \"dtype\": \"number\",\n        \"std\": 45917.32425970205,\n        \"min\": 0.0967416976,\n        \"max\": 1595175.5456,\n        \"num_unique_values\": 48392,\n        \"samples\": [\n          39.72487395,\n          335.36727273,\n          2431.3712166\n        ],\n        \"semantic_type\": \"\",\n        \"description\": \"\"\n      }\n    },\n    {\n      \"column\": \"outlier_flag\",\n      \"properties\": {\n        \"dtype\": \"number\",\n        \"std\": 0.27530789330450184,\n        \"min\": 0.0,\n        \"max\": 1.0,\n        \"num_unique_values\": 2,\n        \"samples\": [\n          1.0,\n          0.0\n        ],\n        \"semantic_type\": \"\",\n        \"description\": \"\"\n      }\n    }\n  ]\n}"
            }
          },
          "metadata": {},
          "execution_count": 19
        }
      ]
    },
    {
      "cell_type": "markdown",
      "source": [
        "- 🔄 Reshaped the dataset from wide to long format Transformed year-specific columns (e.g., tot_spndng_2019, tot_spndng_2020, ...) into a unified tot_spndng column with a corresponding year column.\n",
        "\n",
        "- This structure simplifies groupby operations, visualizations, and time series modeling across years."
      ],
      "metadata": {
        "id": "jcAXBFieEt6h"
      }
    },
    {
      "cell_type": "code",
      "source": [
        "# Show detailed structure of the reshaped DataFrame\n",
        "print(\"📄 Dataset Info:\\n\")\n",
        "df_long.info()"
      ],
      "metadata": {
        "id": "hF4NYflrEkk5",
        "colab": {
          "base_uri": "https://localhost:8080/"
        },
        "outputId": "354ad00e-34bc-48ae-ae06-330ba9239379"
      },
      "execution_count": 20,
      "outputs": [
        {
          "output_type": "stream",
          "name": "stdout",
          "text": [
            "📄 Dataset Info:\n",
            "\n",
            "<class 'pandas.core.frame.DataFrame'>\n",
            "RangeIndex: 71545 entries, 0 to 71544\n",
            "Data columns (total 15 columns):\n",
            " #   Column                           Non-Null Count  Dtype  \n",
            "---  ------                           --------------  -----  \n",
            " 0   brnd_name                        71545 non-null  object \n",
            " 1   gnrc_name                        71545 non-null  object \n",
            " 2   mftr_name                        71545 non-null  object \n",
            " 3   tot_mftr                         71545 non-null  int64  \n",
            " 4   year                             71545 non-null  int64  \n",
            " 5   cagr_avg_spnd_per_dsg_unt_19_23  71545 non-null  float64\n",
            " 6   chg_avg_spnd_per_dsg_unt_22_23   71545 non-null  float64\n",
            " 7   tot_spndng                       71545 non-null  float64\n",
            " 8   tot_dsg_unts                     71545 non-null  float64\n",
            " 9   tot_clms                         71545 non-null  float64\n",
            " 10  tot_benes                        71545 non-null  float64\n",
            " 11  avg_spnd_per_dsg_unt_wghtd       71545 non-null  float64\n",
            " 12  avg_spnd_per_clm                 71545 non-null  float64\n",
            " 13  avg_spnd_per_bene                71545 non-null  float64\n",
            " 14  outlier_flag                     71545 non-null  float64\n",
            "dtypes: float64(10), int64(2), object(3)\n",
            "memory usage: 8.2+ MB\n"
          ]
        }
      ]
    },
    {
      "cell_type": "markdown",
      "source": [
        "# Exploratory Data Analysis (EDA)"
      ],
      "metadata": {
        "id": "_ZTB6T6AGvWa"
      }
    },
    {
      "cell_type": "code",
      "source": [
        "# Descriptive Statistics for Key Metrics\n",
        "styled_stats = df_long[['tot_spndng', 'tot_dsg_unts', 'tot_clms', 'tot_benes',\n",
        "                        'avg_spnd_per_dsg_unt_wghtd', 'avg_spnd_per_clm', 'avg_spnd_per_bene']].describe().style\n",
        "\n",
        "# Apply styling\n",
        "styled_stats = styled_stats.background_gradient(cmap='viridis') \\\n",
        "                             .set_caption(\"📊 Descriptive Statistics for Spending & Utilization Metrics\") \\\n",
        "                             .format(\"{:,.2f}\")\n",
        "\n",
        "styled_stats\n"
      ],
      "metadata": {
        "id": "G4u_c9tLFELB",
        "colab": {
          "base_uri": "https://localhost:8080/",
          "height": 318
        },
        "outputId": "9b365e86-0b2a-437b-c2ee-1208cc1554d7"
      },
      "execution_count": 21,
      "outputs": [
        {
          "output_type": "execute_result",
          "data": {
            "text/plain": [
              "<pandas.io.formats.style.Styler at 0x7d0316505c10>"
            ],
            "text/html": [
              "<style type=\"text/css\">\n",
              "#T_5e416_row0_col0, #T_5e416_row0_col1, #T_5e416_row0_col2, #T_5e416_row1_col0, #T_5e416_row1_col1, #T_5e416_row1_col2, #T_5e416_row1_col4, #T_5e416_row3_col0, #T_5e416_row3_col1, #T_5e416_row3_col2, #T_5e416_row3_col3, #T_5e416_row3_col4, #T_5e416_row3_col5, #T_5e416_row3_col6, #T_5e416_row4_col0, #T_5e416_row4_col1, #T_5e416_row4_col2, #T_5e416_row4_col3, #T_5e416_row4_col4, #T_5e416_row4_col5, #T_5e416_row4_col6, #T_5e416_row5_col0, #T_5e416_row5_col1, #T_5e416_row5_col2, #T_5e416_row5_col3, #T_5e416_row5_col4, #T_5e416_row5_col5, #T_5e416_row5_col6, #T_5e416_row6_col0, #T_5e416_row6_col1, #T_5e416_row6_col2, #T_5e416_row6_col3, #T_5e416_row6_col4, #T_5e416_row6_col5, #T_5e416_row6_col6 {\n",
              "  background-color: #440154;\n",
              "  color: #f1f1f1;\n",
              "}\n",
              "#T_5e416_row0_col3, #T_5e416_row1_col3, #T_5e416_row1_col5, #T_5e416_row1_col6 {\n",
              "  background-color: #440256;\n",
              "  color: #f1f1f1;\n",
              "}\n",
              "#T_5e416_row0_col4 {\n",
              "  background-color: #355f8d;\n",
              "  color: #f1f1f1;\n",
              "}\n",
              "#T_5e416_row0_col5 {\n",
              "  background-color: #404588;\n",
              "  color: #f1f1f1;\n",
              "}\n",
              "#T_5e416_row0_col6 {\n",
              "  background-color: #471164;\n",
              "  color: #f1f1f1;\n",
              "}\n",
              "#T_5e416_row2_col0 {\n",
              "  background-color: #450559;\n",
              "  color: #f1f1f1;\n",
              "}\n",
              "#T_5e416_row2_col1, #T_5e416_row2_col2, #T_5e416_row2_col3, #T_5e416_row2_col5 {\n",
              "  background-color: #46085c;\n",
              "  color: #f1f1f1;\n",
              "}\n",
              "#T_5e416_row2_col4 {\n",
              "  background-color: #450457;\n",
              "  color: #f1f1f1;\n",
              "}\n",
              "#T_5e416_row2_col6 {\n",
              "  background-color: #460b5e;\n",
              "  color: #f1f1f1;\n",
              "}\n",
              "#T_5e416_row7_col0, #T_5e416_row7_col1, #T_5e416_row7_col2, #T_5e416_row7_col3, #T_5e416_row7_col4, #T_5e416_row7_col5, #T_5e416_row7_col6 {\n",
              "  background-color: #fde725;\n",
              "  color: #000000;\n",
              "}\n",
              "</style>\n",
              "<table id=\"T_5e416\" class=\"dataframe\">\n",
              "  <caption>📊 Descriptive Statistics for Spending & Utilization Metrics</caption>\n",
              "  <thead>\n",
              "    <tr>\n",
              "      <th class=\"blank level0\" >&nbsp;</th>\n",
              "      <th id=\"T_5e416_level0_col0\" class=\"col_heading level0 col0\" >tot_spndng</th>\n",
              "      <th id=\"T_5e416_level0_col1\" class=\"col_heading level0 col1\" >tot_dsg_unts</th>\n",
              "      <th id=\"T_5e416_level0_col2\" class=\"col_heading level0 col2\" >tot_clms</th>\n",
              "      <th id=\"T_5e416_level0_col3\" class=\"col_heading level0 col3\" >tot_benes</th>\n",
              "      <th id=\"T_5e416_level0_col4\" class=\"col_heading level0 col4\" >avg_spnd_per_dsg_unt_wghtd</th>\n",
              "      <th id=\"T_5e416_level0_col5\" class=\"col_heading level0 col5\" >avg_spnd_per_clm</th>\n",
              "      <th id=\"T_5e416_level0_col6\" class=\"col_heading level0 col6\" >avg_spnd_per_bene</th>\n",
              "    </tr>\n",
              "  </thead>\n",
              "  <tbody>\n",
              "    <tr>\n",
              "      <th id=\"T_5e416_level0_row0\" class=\"row_heading level0 row0\" >count</th>\n",
              "      <td id=\"T_5e416_row0_col0\" class=\"data row0 col0\" >71,545.00</td>\n",
              "      <td id=\"T_5e416_row0_col1\" class=\"data row0 col1\" >71,545.00</td>\n",
              "      <td id=\"T_5e416_row0_col2\" class=\"data row0 col2\" >71,545.00</td>\n",
              "      <td id=\"T_5e416_row0_col3\" class=\"data row0 col3\" >71,545.00</td>\n",
              "      <td id=\"T_5e416_row0_col4\" class=\"data row0 col4\" >71,545.00</td>\n",
              "      <td id=\"T_5e416_row0_col5\" class=\"data row0 col5\" >71,545.00</td>\n",
              "      <td id=\"T_5e416_row0_col6\" class=\"data row0 col6\" >71,545.00</td>\n",
              "    </tr>\n",
              "    <tr>\n",
              "      <th id=\"T_5e416_level0_row1\" class=\"row_heading level0 row1\" >mean</th>\n",
              "      <td id=\"T_5e416_row1_col0\" class=\"data row1 col0\" >31,127,616.98</td>\n",
              "      <td id=\"T_5e416_row1_col1\" class=\"data row1 col1\" >16,165,986.89</td>\n",
              "      <td id=\"T_5e416_row1_col2\" class=\"data row1 col2\" >212,526.41</td>\n",
              "      <td id=\"T_5e416_row1_col3\" class=\"data row1 col3\" >67,416.13</td>\n",
              "      <td id=\"T_5e416_row1_col4\" class=\"data row1 col4\" >193.97</td>\n",
              "      <td id=\"T_5e416_row1_col5\" class=\"data row1 col5\" >1,589.97</td>\n",
              "      <td id=\"T_5e416_row1_col6\" class=\"data row1 col6\" >7,559.21</td>\n",
              "    </tr>\n",
              "    <tr>\n",
              "      <th id=\"T_5e416_level0_row2\" class=\"row_heading level0 row2\" >std</th>\n",
              "      <td id=\"T_5e416_row2_col0\" class=\"data row2 col0\" >255,065,357.25</td>\n",
              "      <td id=\"T_5e416_row2_col1\" class=\"data row2 col1\" >112,982,438.79</td>\n",
              "      <td id=\"T_5e416_row2_col2\" class=\"data row2 col2\" >1,355,533.72</td>\n",
              "      <td id=\"T_5e416_row2_col3\" class=\"data row2 col3\" >371,691.42</td>\n",
              "      <td id=\"T_5e416_row2_col4\" class=\"data row2 col4\" >2,355.79</td>\n",
              "      <td id=\"T_5e416_row2_col5\" class=\"data row2 col5\" >7,754.68</td>\n",
              "      <td id=\"T_5e416_row2_col6\" class=\"data row2 col6\" >45,917.32</td>\n",
              "    </tr>\n",
              "    <tr>\n",
              "      <th id=\"T_5e416_level0_row3\" class=\"row_heading level0 row3\" >min</th>\n",
              "      <td id=\"T_5e416_row3_col0\" class=\"data row3 col0\" >26.43</td>\n",
              "      <td id=\"T_5e416_row3_col1\" class=\"data row3 col1\" >0.70</td>\n",
              "      <td id=\"T_5e416_row3_col2\" class=\"data row3 col2\" >11.00</td>\n",
              "      <td id=\"T_5e416_row3_col3\" class=\"data row3 col3\" >11.00</td>\n",
              "      <td id=\"T_5e416_row3_col4\" class=\"data row3 col4\" >0.00</td>\n",
              "      <td id=\"T_5e416_row3_col5\" class=\"data row3 col5\" >0.04</td>\n",
              "      <td id=\"T_5e416_row3_col6\" class=\"data row3 col6\" >0.10</td>\n",
              "    </tr>\n",
              "    <tr>\n",
              "      <th id=\"T_5e416_level0_row4\" class=\"row_heading level0 row4\" >25%</th>\n",
              "      <td id=\"T_5e416_row4_col0\" class=\"data row4 col0\" >131,892.14</td>\n",
              "      <td id=\"T_5e416_row4_col1\" class=\"data row4 col1\" >32,209.00</td>\n",
              "      <td id=\"T_5e416_row4_col2\" class=\"data row4 col2\" >689.00</td>\n",
              "      <td id=\"T_5e416_row4_col3\" class=\"data row4 col3\" >333.00</td>\n",
              "      <td id=\"T_5e416_row4_col4\" class=\"data row4 col4\" >0.61</td>\n",
              "      <td id=\"T_5e416_row4_col5\" class=\"data row4 col5\" >37.83</td>\n",
              "      <td id=\"T_5e416_row4_col6\" class=\"data row4 col6\" >97.95</td>\n",
              "    </tr>\n",
              "    <tr>\n",
              "      <th id=\"T_5e416_level0_row5\" class=\"row_heading level0 row5\" >50%</th>\n",
              "      <td id=\"T_5e416_row5_col0\" class=\"data row5 col0\" >1,312,670.35</td>\n",
              "      <td id=\"T_5e416_row5_col1\" class=\"data row5 col1\" >306,657.00</td>\n",
              "      <td id=\"T_5e416_row5_col2\" class=\"data row5 col2\" >5,864.00</td>\n",
              "      <td id=\"T_5e416_row5_col3\" class=\"data row5 col3\" >2,065.50</td>\n",
              "      <td id=\"T_5e416_row5_col4\" class=\"data row5 col4\" >2.05</td>\n",
              "      <td id=\"T_5e416_row5_col5\" class=\"data row5 col5\" >110.62</td>\n",
              "      <td id=\"T_5e416_row5_col6\" class=\"data row5 col6\" >283.23</td>\n",
              "    </tr>\n",
              "    <tr>\n",
              "      <th id=\"T_5e416_level0_row6\" class=\"row_heading level0 row6\" >75%</th>\n",
              "      <td id=\"T_5e416_row6_col0\" class=\"data row6 col0\" >5,814,277.28</td>\n",
              "      <td id=\"T_5e416_row6_col1\" class=\"data row6 col1\" >1,773,856.00</td>\n",
              "      <td id=\"T_5e416_row6_col2\" class=\"data row6 col2\" >30,748.00</td>\n",
              "      <td id=\"T_5e416_row6_col3\" class=\"data row6 col3\" >10,487.00</td>\n",
              "      <td id=\"T_5e416_row6_col4\" class=\"data row6 col4\" >9.99</td>\n",
              "      <td id=\"T_5e416_row6_col5\" class=\"data row6 col5\" >422.13</td>\n",
              "      <td id=\"T_5e416_row6_col6\" class=\"data row6 col6\" >1,106.91</td>\n",
              "    </tr>\n",
              "    <tr>\n",
              "      <th id=\"T_5e416_level0_row7\" class=\"row_heading level0 row7\" >max</th>\n",
              "      <td id=\"T_5e416_row7_col0\" class=\"data row7 col0\" >18,273,451,967.00</td>\n",
              "      <td id=\"T_5e416_row7_col1\" class=\"data row7 col1\" >4,956,622,003.00</td>\n",
              "      <td id=\"T_5e416_row7_col2\" class=\"data row7 col2\" >68,493,698.00</td>\n",
              "      <td id=\"T_5e416_row7_col3\" class=\"data row7 col3\" >16,778,185.00</td>\n",
              "      <td id=\"T_5e416_row7_col4\" class=\"data row7 col4\" >239,745.73</td>\n",
              "      <td id=\"T_5e416_row7_col5\" class=\"data row7 col5\" >347,007.60</td>\n",
              "      <td id=\"T_5e416_row7_col6\" class=\"data row7 col6\" >1,595,175.55</td>\n",
              "    </tr>\n",
              "  </tbody>\n",
              "</table>\n"
            ]
          },
          "metadata": {},
          "execution_count": 21
        }
      ]
    },
    {
      "cell_type": "markdown",
      "source": [
        "- All variables have 71,545 records, indicating complete data across the metrics.\n",
        "\n",
        "- Average total spending per record is about $31.1 million, but with a massive standard deviation, suggesting significant variance across entries.\n",
        "\n",
        "- Drug units (tot_dsg_unts) and claims (tot_clms) show highly skewed distributions some records have extremely large values, as indicated by the max vs. median comparison.\n",
        "\n",
        "- The average number of beneficiaries (tot_benes) per record is ~67,000, but again, some records reach up to 16.7 million, showing large-scale variance.\n",
        "\n",
        "For calculated metrics:\n",
        "\n",
        "-  Average spending per weighted dosage unit is 193.97,but it ranges up to $239,746, reflecting huge cost discrepancies.\n",
        "\n",
        "- Spending per claim and spending per beneficiary also show heavy tails, with means much lower than the max values.\n",
        "\n",
        "- Median values are much lower than means, reinforcing that distributions are right-skewed, likely due to a few extremely large observations.\n",
        "\n",
        "Key Insights (Simplified above)\n",
        "\n",
        "- Complete data: All variables have 71,545 entries solid data coverage.\n",
        "\n",
        "- Total spending is very spread out, with huge differences across records.\n",
        "\n",
        "- Dosage units and claims are highly skewed some values are abnormally high.\n",
        "\n",
        "- Beneficiaries vary greatly, from a handful to over 16 million per record.\n",
        "\n",
        "- Per-unit spending is usually low but spikes drastically in some cases.\n",
        "\n",
        "- Spending per claim & beneficiary also shows extreme outliers.\n",
        "\n",
        "- Means ≫ medians, confirming the presence of heavy right skew.\n"
      ],
      "metadata": {
        "id": "M40Q-AffWdQ6"
      }
    },
    {
      "cell_type": "code",
      "source": [
        "# Total Drug Spending Per Year\n",
        "# Set the aesthetic style\n",
        "sns.set(style='whitegrid')\n",
        "\n",
        "plt.figure(figsize=(12, 8))\n",
        "sns.barplot(\n",
        "    data=df_long,\n",
        "    x='year',\n",
        "    y='tot_spndng',\n",
        "    estimator='sum',\n",
        "    palette='crest',  # Modern color palette\n",
        "    edgecolor='black'\n",
        ")\n",
        "\n",
        "plt.title('💰 Total Drug Spending by Year (2019–2023)', fontsize=18, weight='bold')\n",
        "plt.xlabel('Year', fontsize=14)\n",
        "plt.ylabel('Total Spending (USD)', fontsize=14)\n",
        "plt.xticks(fontsize=12)\n",
        "plt.yticks(fontsize=12)\n",
        "plt.grid(axis='y', linestyle='--', linewidth=0.5)\n",
        "plt.tight_layout()\n",
        "plt.show()"
      ],
      "metadata": {
        "id": "Ue4OxkH3GtlJ",
        "colab": {
          "base_uri": "https://localhost:8080/",
          "height": 801
        },
        "outputId": "8466c56b-35bc-4ffa-ab92-3828a7450e91"
      },
      "execution_count": 22,
      "outputs": [
        {
          "output_type": "display_data",
          "data": {
            "text/plain": [
              "<Figure size 1200x800 with 1 Axes>"
            ],
            "image/png": "[encoded data removed]"
          },
          "metadata": {}
        }
      ]
    },
    {
      "cell_type": "markdown",
      "source": [
        "🔍 What the Chart Shows (in simple words)\n",
        "\n",
        "- The bar plot shows that total Medicare Part D drug spending increased every year from 2019 to 2023, with 2023 reaching the highest level.\n",
        "\n",
        "- Each bar represents total national drug costs for that year. The rising bars suggest a steady upward trend in spending over time."
      ],
      "metadata": {
        "id": "P1RxkQuoYB26"
      }
    },
    {
      "cell_type": "code",
      "source": [
        "# Average Cost Per Dosage Unit Boxplot Across Years\n",
        "# Set a clean and modern aesthetic\n",
        "sns.set(style='whitegrid', palette='pastel', font_scale=1.2)\n",
        "\n",
        "plt.figure(figsize=(12, 8))\n",
        "box = sns.boxplot(\n",
        "    data=df_long,\n",
        "    x='year',\n",
        "    y='avg_spnd_per_dsg_unt_wghtd',\n",
        "    showfliers=True,  # Show outliers\n",
        "    linewidth=1.5,\n",
        "    width=0.6,\n",
        "    palette='rocket'\n",
        ")\n",
        "\n",
        "# Customize appearance\n",
        "plt.yscale('log')  # Helps reveal skewed distribution\n",
        "plt.title('💊 Avg. Spend Per Dosage Unit by Year (Log Scale)', fontsize=18, weight='bold')\n",
        "plt.xlabel('Year', fontsize=14)\n",
        "plt.ylabel('Avg Spend per Dosage Unit (Log Scale)', fontsize=14)\n",
        "plt.xticks(fontsize=12)\n",
        "plt.yticks(fontsize=12)\n",
        "plt.grid(axis='y', linestyle='--', alpha=0.7)\n",
        "\n",
        "# Optional: Add horizontal reference line (e.g., mean or threshold)\n",
        "plt.axhline(y=1, color='gray', linestyle='--', linewidth=1)\n",
        "\n",
        "plt.tight_layout()\n",
        "plt.show()"
      ],
      "metadata": {
        "id": "Wfj77CW2Xfz5",
        "colab": {
          "base_uri": "https://localhost:8080/",
          "height": 793
        },
        "outputId": "457f3c0a-90ec-405c-acd3-d7ea25ea3252"
      },
      "execution_count": 23,
      "outputs": [
        {
          "output_type": "display_data",
          "data": {
            "text/plain": [
              "<Figure size 1200x800 with 1 Axes>"
            ],
            "image/png": "[encoded data removed]"
          },
          "metadata": {}
        }
      ]
    },
    {
      "cell_type": "markdown",
      "source": [
        "What the Boxplot Shows (Simple Terms)\n",
        "\n",
        "This chart displays how the average spending per dosage unit changed from 2019 to 2023:\n",
        "\n",
        "- Most drugs have a low cost per dose, clustered tightly in the lower part of each box.\n",
        "\n",
        "- The box itself shows the middle 50% of values: from the 25th to 75th percentile (interquartile range), giving a sense of typical spending.\n",
        "\n",
        "- The line inside the box marks the median the midpoint of all drug prices for that year.\n",
        "\n",
        "- \"Whiskers\" extend to show variation outside the middle range, while dots beyond whiskers represent outliers the unusually expensive drugs.\n",
        "\n",
        "- Every year, some drugs cost far more than others, and that gap grows in certain years.\n",
        "\n",
        "- The log scale helps stretch the lower values and compress the extreme highs to better visualize patterns.\n",
        "\n",
        "Together, this tells us that while most drugs are inexpensive per unit, a small number are exponentially more costly, and those outliers shift how Medicare resources are distributed."
      ],
      "metadata": {
        "id": "SZDQJMwbadcZ"
      }
    },
    {
      "cell_type": "code",
      "source": [
        "# Add a simple summary to support above the plot\n",
        "summary = df_long.groupby('year')['avg_spnd_per_dsg_unt_wghtd'].describe()[['count', 'mean', '50%', 'max']].rename(columns={'50%': 'median'})\n",
        "\n",
        "# Apply color gradient higher values get deeper blue\n",
        "styled_summary = summary.style.background_gradient(cmap='Blues').format('{:.2f}')\n",
        "display(styled_summary)\n",
        "\n"
      ],
      "metadata": {
        "id": "CsbbmJJwYjAB",
        "colab": {
          "base_uri": "https://localhost:8080/",
          "height": 238
        },
        "outputId": "b147a540-075d-47d2-8b5e-e88c0264cb1c"
      },
      "execution_count": 24,
      "outputs": [
        {
          "output_type": "display_data",
          "data": {
            "text/plain": [
              "<pandas.io.formats.style.Styler at 0x7d02fba68490>"
            ],
            "text/html": [
              "<style type=\"text/css\">\n",
              "#T_634d1_row0_col0, #T_634d1_row0_col1, #T_634d1_row0_col2, #T_634d1_row0_col3, #T_634d1_row1_col0, #T_634d1_row2_col0, #T_634d1_row3_col0, #T_634d1_row4_col0 {\n",
              "  background-color: #f7fbff;\n",
              "  color: #000000;\n",
              "}\n",
              "#T_634d1_row1_col1 {\n",
              "  background-color: #d9e8f5;\n",
              "  color: #000000;\n",
              "}\n",
              "#T_634d1_row1_col2 {\n",
              "  background-color: #b5d4e9;\n",
              "  color: #000000;\n",
              "}\n",
              "#T_634d1_row1_col3 {\n",
              "  background-color: #f6faff;\n",
              "  color: #000000;\n",
              "}\n",
              "#T_634d1_row2_col1 {\n",
              "  background-color: #c1d9ed;\n",
              "  color: #000000;\n",
              "}\n",
              "#T_634d1_row2_col2 {\n",
              "  background-color: #a6cee4;\n",
              "  color: #000000;\n",
              "}\n",
              "#T_634d1_row2_col3 {\n",
              "  background-color: #f5f9fe;\n",
              "  color: #000000;\n",
              "}\n",
              "#T_634d1_row3_col1 {\n",
              "  background-color: #3e8ec4;\n",
              "  color: #f1f1f1;\n",
              "}\n",
              "#T_634d1_row3_col2 {\n",
              "  background-color: #083c7d;\n",
              "  color: #f1f1f1;\n",
              "}\n",
              "#T_634d1_row3_col3 {\n",
              "  background-color: #083877;\n",
              "  color: #f1f1f1;\n",
              "}\n",
              "#T_634d1_row4_col1, #T_634d1_row4_col2, #T_634d1_row4_col3 {\n",
              "  background-color: #08306b;\n",
              "  color: #f1f1f1;\n",
              "}\n",
              "</style>\n",
              "<table id=\"T_634d1\" class=\"dataframe\">\n",
              "  <thead>\n",
              "    <tr>\n",
              "      <th class=\"blank level0\" >&nbsp;</th>\n",
              "      <th id=\"T_634d1_level0_col0\" class=\"col_heading level0 col0\" >count</th>\n",
              "      <th id=\"T_634d1_level0_col1\" class=\"col_heading level0 col1\" >mean</th>\n",
              "      <th id=\"T_634d1_level0_col2\" class=\"col_heading level0 col2\" >median</th>\n",
              "      <th id=\"T_634d1_level0_col3\" class=\"col_heading level0 col3\" >max</th>\n",
              "    </tr>\n",
              "    <tr>\n",
              "      <th class=\"index_name level0\" >year</th>\n",
              "      <th class=\"blank col0\" >&nbsp;</th>\n",
              "      <th class=\"blank col1\" >&nbsp;</th>\n",
              "      <th class=\"blank col2\" >&nbsp;</th>\n",
              "      <th class=\"blank col3\" >&nbsp;</th>\n",
              "    </tr>\n",
              "  </thead>\n",
              "  <tbody>\n",
              "    <tr>\n",
              "      <th id=\"T_634d1_level0_row0\" class=\"row_heading level0 row0\" >2019</th>\n",
              "      <td id=\"T_634d1_row0_col0\" class=\"data row0 col0\" >14309.00</td>\n",
              "      <td id=\"T_634d1_row0_col1\" class=\"data row0 col1\" >125.13</td>\n",
              "      <td id=\"T_634d1_row0_col2\" class=\"data row0 col2\" >1.97</td>\n",
              "      <td id=\"T_634d1_row0_col3\" class=\"data row0 col3\" >40190.06</td>\n",
              "    </tr>\n",
              "    <tr>\n",
              "      <th id=\"T_634d1_level0_row1\" class=\"row_heading level0 row1\" >2020</th>\n",
              "      <td id=\"T_634d1_row1_col0\" class=\"data row1 col0\" >14309.00</td>\n",
              "      <td id=\"T_634d1_row1_col1\" class=\"data row1 col1\" >150.34</td>\n",
              "      <td id=\"T_634d1_row1_col2\" class=\"data row1 col2\" >2.05</td>\n",
              "      <td id=\"T_634d1_row1_col3\" class=\"data row1 col3\" >41142.93</td>\n",
              "    </tr>\n",
              "    <tr>\n",
              "      <th id=\"T_634d1_level0_row2\" class=\"row_heading level0 row2\" >2021</th>\n",
              "      <td id=\"T_634d1_row2_col0\" class=\"data row2 col0\" >14309.00</td>\n",
              "      <td id=\"T_634d1_row2_col1\" class=\"data row2 col1\" >169.87</td>\n",
              "      <td id=\"T_634d1_row2_col2\" class=\"data row2 col2\" >2.07</td>\n",
              "      <td id=\"T_634d1_row2_col3\" class=\"data row2 col3\" >42825.01</td>\n",
              "    </tr>\n",
              "    <tr>\n",
              "      <th id=\"T_634d1_level0_row3\" class=\"row_heading level0 row3\" >2022</th>\n",
              "      <td id=\"T_634d1_row3_col0\" class=\"data row3 col0\" >14309.00</td>\n",
              "      <td id=\"T_634d1_row3_col1\" class=\"data row3 col1\" >231.87</td>\n",
              "      <td id=\"T_634d1_row3_col2\" class=\"data row3 col2\" >2.23</td>\n",
              "      <td id=\"T_634d1_row3_col3\" class=\"data row3 col3\" >233364.03</td>\n",
              "    </tr>\n",
              "    <tr>\n",
              "      <th id=\"T_634d1_level0_row4\" class=\"row_heading level0 row4\" >2023</th>\n",
              "      <td id=\"T_634d1_row4_col0\" class=\"data row4 col0\" >14309.00</td>\n",
              "      <td id=\"T_634d1_row4_col1\" class=\"data row4 col1\" >292.65</td>\n",
              "      <td id=\"T_634d1_row4_col2\" class=\"data row4 col2\" >2.24</td>\n",
              "      <td id=\"T_634d1_row4_col3\" class=\"data row4 col3\" >239745.73</td>\n",
              "    </tr>\n",
              "  </tbody>\n",
              "</table>\n"
            ]
          },
          "metadata": {}
        }
      ]
    },
    {
      "cell_type": "markdown",
      "source": [
        "The summary table reinforces what the boxplot visually hinted\n",
        "\n",
        "- Most drugs have very low average spending per unit (median ≈ $2 each year),\n",
        "\n",
        "- But a few drugs cost tens or even hundreds of thousands per unit, which drives up the mean sharply over time (from 125 in 2019 to $293 in 2023),\n",
        "\n",
        "- And the max values explode in 2022–2023, confirming the presence of extreme outliers seen in the boxplot whiskers.\n",
        "\n",
        "So in short the table supports the boxplot by quantifying the outliers and skew it makes the chart’s story easier to understand with actual numbers."
      ],
      "metadata": {
        "id": "NhpnhMvLcBx1"
      }
    },
    {
      "cell_type": "code",
      "source": [
        "#  Top 10 Costliest Drugs in 2023\n",
        "top2023 = df_long[df_long['year'] == 2023].groupby('brnd_name')['tot_spndng'].sum().nlargest(10).reset_index()\n",
        "\n",
        "plt.figure(figsize=(10,6))\n",
        "sns.barplot(data=top2023, y='brnd_name', x='tot_spndng', palette='viridis')\n",
        "plt.title('🏆 Top 10 Costliest Drugs in 2023')\n",
        "plt.xlabel('Total Spending')\n",
        "plt.ylabel('Brand Name')\n",
        "plt.tight_layout()\n",
        "plt.show()\n"
      ],
      "metadata": {
        "id": "caHJZO_Ea3Ha",
        "colab": {
          "base_uri": "https://localhost:8080/",
          "height": 593
        },
        "outputId": "d449c8e5-a16f-49b9-f0c4-824a3d01af3c"
      },
      "execution_count": 25,
      "outputs": [
        {
          "output_type": "display_data",
          "data": {
            "text/plain": [
              "<Figure size 1000x600 with 1 Axes>"
            ],
            "image/png": "[encoded data removed]"
          },
          "metadata": {}
        }
      ]
    },
    {
      "cell_type": "markdown",
      "source": [
        "Insights Top 10 Costliest Drugs in 2023\n",
        "\n",
        "- Eliquis leads with the highest total Medicare Part D spending.\n",
        "\n",
        "- Ozempic and Jardiance follow, indicating rising costs for diabetes and cardiovascular treatments.\n",
        "\n",
        "- All top 10 drugs show billions in total spending, highlighting major drivers of Medicare drug costs.\n",
        "\n",
        "- Mix of anticoagulants, diabetes meds, and specialty drugs dominate the list.\n",
        "Reinforces the trend seen in earlier plots, a small group of drugs accounts for a large share of total costs.\n",
        "\n",
        "- The label 1e10 on the x-axis means \"1 × 10¹⁰\", or 10 billion it’s a scientific notation used to represent large values compactly."
      ],
      "metadata": {
        "id": "I0e7goxudaXw"
      }
    },
    {
      "cell_type": "code",
      "source": [
        "# Manufacturer-Level Spending Share (2023)\n",
        "top10_mftr = df_long[df_long['year'] == 2023].groupby('mftr_name')['tot_spndng'].sum()\n",
        "top10 = top10_mftr.nlargest(9)\n",
        "others = top10_mftr.sum() - top10.sum()\n",
        "top10['others'] = others\n",
        "\n",
        "# Plot as donut chart\n",
        "colors = sns.color_palette('Set2', n_colors=10)\n",
        "plt.figure(figsize=(9, 9))\n",
        "plt.pie(top10, labels=top10.index, autopct='%1.1f%%', startangle=140,\n",
        "        wedgeprops=dict(width=0.35, edgecolor='w'), colors=colors)\n",
        "\n",
        "plt.title(\"🏭 Medicare Drug Spend Share by Top Manufacturers (2023)\", fontsize=16, weight='bold')\n",
        "plt.tight_layout()\n",
        "plt.show()\n",
        "\n"
      ],
      "metadata": {
        "id": "1sn1R8OicueS",
        "colab": {
          "base_uri": "https://localhost:8080/",
          "height": 821
        },
        "outputId": "c31572a1-d61d-4053-d0e6-fbb0e37e3071"
      },
      "execution_count": 26,
      "outputs": [
        {
          "output_type": "display_data",
          "data": {
            "text/plain": [
              "<Figure size 900x900 with 1 Axes>"
            ],
            "image/png": "[encoded data removed]"
          },
          "metadata": {}
        }
      ]
    },
    {
      "cell_type": "markdown",
      "source": [
        "🧾 What This Pie Chart Shows (Simple Explanation)\n",
        "\n",
        "- The chart breaks down 2023 Medicare drug spending by manufacturer.\n",
        "\n",
        "- Each slice shows how much each top manufacturer contributed to the total spend.\n",
        "\n",
        "- For example, Sanofi-Aventis, Janssen, Novo Nordisk, and Eli Lilly are among the top spenders.\n",
        "\n",
        "- A large \"Others\" slice bundles together all the remaining smaller manufacturers.\n",
        "\n",
        "- The chart helps identify who the key industry players are in terms of cost impact.\n",
        "\n"
      ],
      "metadata": {
        "id": "4cfke-ZAfPlH"
      }
    },
    {
      "cell_type": "code",
      "source": [
        "# Detect Outlier Drugs by CAGR (2019–2023)\n",
        "top_cagr = df_long[df_long['year'] == 2023][['brnd_name', 'cagr_avg_spnd_per_dsg_unt_19_23']] \\\n",
        "            .drop_duplicates().nlargest(10, 'cagr_avg_spnd_per_dsg_unt_19_23')\n",
        "\n",
        "plt.figure(figsize=(10,6))\n",
        "sns.barplot(data=top_cagr, x='cagr_avg_spnd_per_dsg_unt_19_23', y='brnd_name', palette='flare')\n",
        "plt.xlabel('CAGR of Spend per Dosage Unit (2019–2023)')\n",
        "plt.title('🚀 Fastest Growing Drugs by Unit Cost')\n",
        "plt.tight_layout()\n",
        "plt.show()\n"
      ],
      "metadata": {
        "id": "w0wEJlZjeZbI",
        "colab": {
          "base_uri": "https://localhost:8080/",
          "height": 593
        },
        "outputId": "91f22afb-0da7-4e07-9929-b26ead968ef2"
      },
      "execution_count": 27,
      "outputs": [
        {
          "output_type": "display_data",
          "data": {
            "text/plain": [
              "<Figure size 1000x600 with 1 Axes>"
            ],
            "image/png": "[encoded data removed]"
          },
          "metadata": {}
        }
      ]
    },
    {
      "cell_type": "markdown",
      "source": [
        "What This Chart Shows (in Simple Terms)\n",
        "\n",
        "- Goal: Spot drugs with unusually rapid price growth.\n",
        "\n",
        "- The x-axis shows the Compound Annual Growth Rate (CAGR) of average spending per dosage unit from 2019 to 2023 higher values mean faster price increases over time.\n",
        "\n",
        "- Those numbers on the x-axis represent CAGR percentages so 0 means no growth, 6 means the unit cost increased about 6% per year, and so on.\n",
        "\n",
        "- This bar chart displays the top 10 drugs with the fastest growing unit cost from 2019 to 2023.\n",
        "\n",
        "- It uses CAGR (Compound Annual Growth Rate) to measure how rapidly the average spend per dosage unit increased for each drug.\n",
        "\n",
        "\n",
        "- These drugs saw the steepest price acceleration, possibly due to shifts in demand, supply shortages, or formulation changes.\n",
        "\n",
        "So while other plots showed which drugs cost the most overall, this one reveals which drugs became more expensive the fastest over time useful for tracking emerging cost pressure in Medicare."
      ],
      "metadata": {
        "id": "nxAESUpFgogJ"
      }
    },
    {
      "cell_type": "code",
      "source": [
        "# Year-over-Year Spend Change (2022 → 2023)\n",
        "# Prepare data\n",
        "chg = df_long[df_long['year'] == 2023][['brnd_name', 'chg_avg_spnd_per_dsg_unt_22_23']] \\\n",
        "       .drop_duplicates().nlargest(10, 'chg_avg_spnd_per_dsg_unt_22_23')\n",
        "\n",
        "# Plot\n",
        "plt.figure(figsize=(10, 6))\n",
        "bar = sns.barplot(\n",
        "    data=chg,\n",
        "    x='chg_avg_spnd_per_dsg_unt_22_23',\n",
        "    y='brnd_name',\n",
        "    palette='crest'\n",
        ")\n",
        "\n",
        "# Format\n",
        "plt.title('📈 Top 10 Drugs with Sharpest Unit Cost Increase (2022 → 2023)', fontsize=16, weight='bold')\n",
        "plt.xlabel('YoY % Change in Spend per Unit (2022–2023)', fontsize=12)\n",
        "plt.ylabel('Drug Name', fontsize=12)\n",
        "plt.xticks(fontsize=11)\n",
        "plt.yticks(fontsize=11)\n",
        "\n",
        "# Convert x-axis to percentage format\n",
        "bar.xaxis.set_major_formatter(mtick.PercentFormatter(xmax=100))\n",
        "\n",
        "# Add % labels to bars\n",
        "for container in bar.containers:\n",
        "    bar.bar_label(container, fmt='%.1f%%', label_type='edge', padding=3, fontsize=10)\n",
        "\n",
        "plt.grid(axis='x', linestyle='--', linewidth=0.5, alpha=0.7)\n",
        "plt.tight_layout()\n",
        "plt.show()\n"
      ],
      "metadata": {
        "id": "tINIEMqGfnOE",
        "colab": {
          "base_uri": "https://localhost:8080/",
          "height": 593
        },
        "outputId": "432c27a2-ef05-49ba-ea0a-3fa6687d7fe9"
      },
      "execution_count": 28,
      "outputs": [
        {
          "output_type": "display_data",
          "data": {
            "text/plain": [
              "<Figure size 1000x600 with 1 Axes>"
            ],
            "image/png": "[encoded data removed]"
          },
          "metadata": {}
        }
      ]
    },
    {
      "cell_type": "markdown",
      "source": [
        "What the X-Axis Represents\n",
        "\n",
        "- The x-axis shows the year-over-year percentage change in average spend per dosage unit from 2022 to 2023.\n",
        "\n",
        "- Higher values mean faster or steeper price increases for those drugs within that single year.\n",
        "\n",
        "- Goal: Find recent price shifts that may affect forecasting.\n",
        "\n",
        "Key Takeaways from the Chart\n",
        "\n",
        "- The chart highlights the top 10 drugs with the sharpest unit price spikes in 2023 compared to 2022.\n",
        "\n",
        "- Drugs like Heparin Sodium and Vancomycin HCl saw the biggest jumps, signaling possible price shocks or supply disruptions.\n",
        "\n",
        "- Many of these drugs are critical hospital-use or infection-related medications—suggesting potential demand surges.\n",
        "\n",
        "- Such steep changes can significantly impact Medicare budgets and patient affordability in just one year.\n"
      ],
      "metadata": {
        "id": "XzZ1CXwHksOQ"
      }
    },
    {
      "cell_type": "code",
      "source": [
        "# Top Drugs by Total Claims (2023)  Horizontal Bar Chart\n",
        "# Get top 10 drugs by total claims in 2023\n",
        "top_claims = df_long[df_long['year'] == 2023].groupby('brnd_name')['tot_clms'].sum().nlargest(10).reset_index()\n",
        "\n",
        "# Plot\n",
        "plt.figure(figsize=(10, 6))\n",
        "sns.barplot(data=top_claims, y='brnd_name', x='tot_clms', palette='Spectral')\n",
        "\n",
        "plt.title('💊 Top 10 Most Prescribed Drugs in 2023 (by Total Claims)', fontsize=16, weight='bold')\n",
        "plt.xlabel('Total Claims')\n",
        "plt.ylabel('Drug Name')\n",
        "plt.xticks(fontsize=11)\n",
        "plt.yticks(fontsize=11)\n",
        "plt.grid(axis='x', linestyle='--', alpha=0.6)\n",
        "plt.tight_layout()\n",
        "plt.show()"
      ],
      "metadata": {
        "id": "-_MvVfpmheU9",
        "colab": {
          "base_uri": "https://localhost:8080/",
          "height": 593
        },
        "outputId": "fe3eca55-0d08-4f3b-b3f8-039567459ee1"
      },
      "execution_count": 29,
      "outputs": [
        {
          "output_type": "display_data",
          "data": {
            "text/plain": [
              "<Figure size 1000x600 with 1 Axes>"
            ],
            "image/png": "[encoded data removed]"
          },
          "metadata": {}
        }
      ]
    },
    {
      "cell_type": "markdown",
      "source": [
        "- X-axis: Shows the total number of prescription claims filed for each drug in 2023\n",
        "\n",
        "- Each bar reflects how frequently a drug was prescribed, not how expensive it is\n",
        "\n",
        "Goal of This Chart\n",
        "\n",
        "- To show which drugs are most used by Medicare patients, helping stakeholders understand demand trends and target areas for cost or supply optimization.\n",
        "\n",
        "✅ What This Chart Shows (in Simple Terms)\n",
        "\n",
        "- Lists the Top 10 most prescribed drugs in 2023, ranked by total Medicare claims\n",
        "\n",
        "- Atorvastatin Calcium is the most prescribed medication, followed by Amlodipine and others\n",
        "\n",
        "- The chart highlights commonly used chronic medications—often for heart, cholesterol, or blood pressure\n",
        "\n",
        "- Helps identify high-volume drugs that may have a big impact on public health and forecasting models\n",
        "\n"
      ],
      "metadata": {
        "id": "306mdeoNn-84"
      }
    },
    {
      "cell_type": "markdown",
      "source": [
        "# Prepare Data for Modeling"
      ],
      "metadata": {
        "id": "ExDXowSPpjem"
      }
    },
    {
      "cell_type": "code",
      "source": [
        "# Ensure df_long is available and sorted\n",
        "df_long_sorted = df_long.sort_values([\"brnd_name\", \"year\"]).reset_index(drop=True)\n"
      ],
      "metadata": {
        "id": "sO8ykGdQRwzD"
      },
      "execution_count": 30,
      "outputs": []
    },
    {
      "cell_type": "code",
      "source": [
        "# Define target\n",
        "target_col = \"tot_spndng\"\n",
        "target_col_log = target_col + \"_log\"\n",
        "df_long_sorted[target_col_log] = np.log1p(df_long_sorted[target_col])"
      ],
      "metadata": {
        "id": "9GOaaN05popN"
      },
      "execution_count": 31,
      "outputs": []
    },
    {
      "cell_type": "markdown",
      "source": [
        "#  Feature Engineering"
      ],
      "metadata": {
        "id": "Li40MXVfpvW8"
      }
    },
    {
      "cell_type": "code",
      "source": [
        "# Lag features\n",
        "df_long_sorted['spend_lag1'] = df_long_sorted.groupby('brnd_name')[target_col_log].shift(1)\n",
        "df_long_sorted['spend_lag2'] = df_long_sorted.groupby('brnd_name')[target_col_log].shift(2)\n"
      ],
      "metadata": {
        "id": "dB7nYzVtp97U"
      },
      "execution_count": 32,
      "outputs": []
    },
    {
      "cell_type": "code",
      "source": [
        "# Rolling mean\n",
        "df_long_sorted['spend_roll_mean'] = df_long_sorted.groupby('brnd_name')['spend_lag1'].transform(\n",
        "    lambda x: x.rolling(2, min_periods=1).mean()\n",
        ")\n"
      ],
      "metadata": {
        "id": "jpLzu8cVuhqc"
      },
      "execution_count": 33,
      "outputs": []
    },
    {
      "cell_type": "code",
      "source": [
        "# YoY change\n",
        "df_long_sorted['yoy_change'] = df_long_sorted['spend_lag1'] - df_long_sorted['spend_lag2']\n"
      ],
      "metadata": {
        "id": "Kh9h75jyuiIr"
      },
      "execution_count": 34,
      "outputs": []
    },
    {
      "cell_type": "code",
      "source": [
        "# Log-transform dynamic features\n",
        "dynamic_features = [\n",
        "    'tot_dsg_unts', 'tot_clms', 'tot_benes',\n",
        "    'avg_spnd_per_clm', 'avg_spnd_per_bene', 'outlier_flag'\n",
        "]\n",
        "for col in dynamic_features:\n",
        "    df_long_sorted[f\"{col}_log\"] = np.log1p(df_long_sorted[col])\n"
      ],
      "metadata": {
        "id": "dxsykkGguo4q"
      },
      "execution_count": 35,
      "outputs": []
    },
    {
      "cell_type": "code",
      "source": [
        "# Static categorical features\n",
        "static_features = ['brnd_name', 'gnrc_name', 'mftr_name']  # Don't encode yet"
      ],
      "metadata": {
        "id": "4ZIvCFdkupNq"
      },
      "execution_count": 36,
      "outputs": []
    },
    {
      "cell_type": "code",
      "source": [
        "# Define feature columns\n",
        "feature_columns = [\n",
        "    'spend_lag1', 'spend_lag2', 'spend_roll_mean', 'yoy_change', 'year', 'tot_mftr'\n",
        "] + [f\"{col}_log\" for col in dynamic_features] + [\n",
        "    'brnd_name', 'gnrc_name', 'mftr_name'\n",
        "]"
      ],
      "metadata": {
        "id": "oogoGXOAuzU6"
      },
      "execution_count": 37,
      "outputs": []
    },
    {
      "cell_type": "code",
      "source": [
        "# Define categorical columns\n",
        "categorical_cols = ['brnd_name', 'gnrc_name', 'mftr_name']"
      ],
      "metadata": {
        "id": "wK4VZWZxLPVG"
      },
      "execution_count": 38,
      "outputs": []
    },
    {
      "cell_type": "code",
      "source": [
        "# Final dataset\n",
        "df_model = df_long_sorted[feature_columns + [target_col_log]].copy()\n",
        "df_model.dropna(inplace=True)\n",
        "\n",
        "print(f\"✅ Final dataset shape: {df_model.shape}\")\n"
      ],
      "metadata": {
        "colab": {
          "base_uri": "https://localhost:8080/"
        },
        "id": "j-D3RkkEu3FK",
        "outputId": "dc52aa48-920f-400f-8a43-542b19673548"
      },
      "execution_count": 39,
      "outputs": [
        {
          "output_type": "stream",
          "name": "stdout",
          "text": [
            "✅ Final dataset shape: (64597, 16)\n"
          ]
        }
      ]
    },
    {
      "cell_type": "markdown",
      "source": [
        "# Time-Aware Train-Validation Split"
      ],
      "metadata": {
        "id": "wfvwvE9BqQu-"
      }
    },
    {
      "cell_type": "code",
      "source": [
        "train = df_model[df_model['year'] < 2023]\n",
        "val = df_model[df_model['year'] == 2023]\n",
        "\n",
        "X_train = train.drop(columns=[target_col_log])\n",
        "y_train = train[target_col_log]\n",
        "X_val = val.drop(columns=[target_col_log])\n",
        "y_val = val[target_col_log]\n",
        "\n"
      ],
      "metadata": {
        "id": "Wc_bkf00qL_c"
      },
      "execution_count": 40,
      "outputs": []
    },
    {
      "cell_type": "code",
      "source": [
        "# Set categorical columns\n",
        "categorical_cols = ['brnd_name', 'gnrc_name', 'mftr_name']\n",
        "for col in categorical_cols:\n",
        "    X_train[col] = X_train[col].astype('category')\n",
        "    X_val[col] = X_val[col].astype('category')\n",
        "\n",
        "print(f\"Train size: {X_train.shape}, Val size: {X_val.shape}\")"
      ],
      "metadata": {
        "colab": {
          "base_uri": "https://localhost:8080/"
        },
        "id": "KzjqJLUkvDRq",
        "outputId": "b59d4b61-c201-41f9-d251-9ad649719d6a"
      },
      "execution_count": 41,
      "outputs": [
        {
          "output_type": "stream",
          "name": "stdout",
          "text": [
            "Train size: (50288, 15), Val size: (14309, 15)\n"
          ]
        }
      ]
    },
    {
      "cell_type": "markdown",
      "source": [
        "# Optuna Hyperparameter tuning with LightGBM"
      ],
      "metadata": {
        "id": "cxU2qmt5uBUU"
      }
    },
    {
      "cell_type": "code",
      "source": [
        "# -------------------------------\n",
        "\n",
        "def objective(trial: Trial):\n",
        "    params = {\n",
        "        'objective': 'regression',\n",
        "        'metric': 'rmse',\n",
        "        'boosting_type': 'gbdt',\n",
        "        'n_estimators': trial.suggest_int('n_estimators', 100, 300),\n",
        "        'learning_rate': trial.suggest_float('learning_rate', 0.01, 0.3),\n",
        "        'max_depth': trial.suggest_int('max_depth', 3, 12),\n",
        "        'num_leaves': trial.suggest_int('num_leaves', 10, 200),\n",
        "        'subsample': trial.suggest_float('subsample', 0.6, 1.0),\n",
        "        'colsample_bytree': trial.suggest_float('colsample_bytree', 0.6, 1.0),\n",
        "        'reg_alpha': trial.suggest_float('reg_alpha', 0.0, 10.0),\n",
        "        'reg_lambda': trial.suggest_float('reg_lambda', 0.0, 10.0),\n",
        "        'random_state': 42,\n",
        "        'verbose': -1\n",
        "    }\n",
        "\n",
        "    # Create dataset\n",
        "    train_data = lgb.Dataset(X_train, label=y_train, categorical_feature=categorical_cols)\n",
        "    val_data = lgb.Dataset(X_val, label=y_val, categorical_feature=categorical_cols, reference=train_data)\n",
        "\n",
        "    # Train with early stopping\n",
        "    model = lgb.train(\n",
        "        params,\n",
        "        train_data,\n",
        "        valid_sets=[train_data, val_data],\n",
        "        valid_names=['train', 'val'],\n",
        "        callbacks=[\n",
        "            lgb.early_stopping(stopping_rounds=20, verbose=False),\n",
        "            lgb.log_evaluation(period=0)\n",
        "        ]\n",
        "    )\n",
        "\n",
        "    # Predict and evaluate\n",
        "    preds = model.predict(X_val)\n",
        "    rmse = np.sqrt(mean_squared_error(y_val, preds))\n",
        "    return rmse"
      ],
      "metadata": {
        "id": "mGwlu4xUsNyr"
      },
      "execution_count": 42,
      "outputs": []
    },
    {
      "cell_type": "code",
      "source": [
        "# Run Optuna\n",
        "print(\"Starting Optuna hyperparameter tuning...\")\n",
        "study = optuna.create_study(direction='minimize')\n",
        "study.optimize(objective, n_trials=30, show_progress_bar=True)\n",
        "\n"
      ],
      "metadata": {
        "colab": {
          "base_uri": "https://localhost:8080/",
          "height": 625,
          "referenced_widgets": [
            "f6420c7b8d1a477d87faa6d4d9e2daf6",
            "f9557115cd0e4dd2a6a7ac4123d7e48c",
            "22c24a13cb884a8b862ec43068d33199",
            "5b3f3a39335a4c0ea0df8f4504779c20",
            "8eaa0e02a12c489ab643f1e72a039ed2",
            "12b42cb496d544eaab9530048193b274",
            "0a03e1e3f640453e902a52738454e4be",
            "93a4acb2703749059f6e7b1ba0e0359b",
            "d5bf673e2f4541dfbdf940af0e16af23",
            "797102154dfd4a6b81c2a48e34d05838",
            "70ca53b734b044bca981217093978d80"
          ]
        },
        "id": "dg0FKanGuFQa",
        "outputId": "9a5b2ba1-d4e0-4134-9aa8-843db329becd"
      },
      "execution_count": 43,
      "outputs": [
        {
          "output_type": "stream",
          "name": "stderr",
          "text": [
            "[I 2025-07-30 11:41:11,193] A new study created in memory with name: no-name-516bb487-9914-4e85-9235-c90c905d33c5\n"
          ]
        },
        {
          "output_type": "stream",
          "name": "stdout",
          "text": [
            "Starting Optuna hyperparameter tuning...\n"
          ]
        },
        {
          "output_type": "display_data",
          "data": {
            "text/plain": [
              "  0%|          | 0/30 [00:00<?, ?it/s]"
            ],
            "application/vnd.jupyter.widget-view+json": {
              "version_major": 2,
              "version_minor": 0,
              "model_id": "f6420c7b8d1a477d87faa6d4d9e2daf6"
            }
          },
          "metadata": {}
        },
        {
          "output_type": "stream",
          "name": "stdout",
          "text": [
            "[I 2025-07-30 11:41:14,389] Trial 0 finished with value: 0.1991831553478432 and parameters: {'n_estimators': 225, 'learning_rate': 0.1301746655344672, 'max_depth': 5, 'num_leaves': 173, 'subsample': 0.8635071888788011, 'colsample_bytree': 0.8697369099852046, 'reg_alpha': 5.698231027032497, 'reg_lambda': 1.605198387693314}. Best is trial 0 with value: 0.1991831553478432.\n",
            "[I 2025-07-30 11:41:16,177] Trial 1 finished with value: 0.43309181840901284 and parameters: {'n_estimators': 140, 'learning_rate': 0.24103411369715444, 'max_depth': 7, 'num_leaves': 187, 'subsample': 0.7120128945328238, 'colsample_bytree': 0.7870572878772508, 'reg_alpha': 3.0745992929929034, 'reg_lambda': 9.56513318696015}. Best is trial 0 with value: 0.1991831553478432.\n",
            "[I 2025-07-30 11:41:18,555] Trial 2 finished with value: 0.22180187546124003 and parameters: {'n_estimators': 282, 'learning_rate': 0.18821475086930844, 'max_depth': 5, 'num_leaves': 79, 'subsample': 0.6546105682448602, 'colsample_bytree': 0.9563122462982454, 'reg_alpha': 3.356198888831842, 'reg_lambda': 8.544356351676583}. Best is trial 0 with value: 0.1991831553478432.\n",
            "[I 2025-07-30 11:41:20,156] Trial 3 finished with value: 0.24420576333966373 and parameters: {'n_estimators': 244, 'learning_rate': 0.21219832964417293, 'max_depth': 4, 'num_leaves': 177, 'subsample': 0.9547650980382679, 'colsample_bytree': 0.8174139602174447, 'reg_alpha': 2.798033321769676, 'reg_lambda': 9.523970957905743}. Best is trial 0 with value: 0.1991831553478432.\n",
            "[I 2025-07-30 11:41:21,201] Trial 4 finished with value: 0.15368236664122722 and parameters: {'n_estimators': 109, 'learning_rate': 0.22350298008828556, 'max_depth': 5, 'num_leaves': 28, 'subsample': 0.9129960305386099, 'colsample_bytree': 0.9699398134587531, 'reg_alpha': 1.4276729372667174, 'reg_lambda': 6.8824727934037435}. Best is trial 4 with value: 0.15368236664122722.\n",
            "[I 2025-07-30 11:41:24,754] Trial 5 finished with value: 0.14674615233981936 and parameters: {'n_estimators': 298, 'learning_rate': 0.04979626259084727, 'max_depth': 4, 'num_leaves': 43, 'subsample': 0.7070931164556327, 'colsample_bytree': 0.9740962936638784, 'reg_alpha': 9.432461962020254, 'reg_lambda': 1.4552425643272837}. Best is trial 5 with value: 0.14674615233981936.\n",
            "[I 2025-07-30 11:41:28,360] Trial 6 finished with value: 0.18245900361176726 and parameters: {'n_estimators': 299, 'learning_rate': 0.03198556531813629, 'max_depth': 6, 'num_leaves': 156, 'subsample': 0.902137600356473, 'colsample_bytree': 0.8118651633444577, 'reg_alpha': 3.0950024419124667, 'reg_lambda': 3.948045496649868}. Best is trial 5 with value: 0.14674615233981936.\n",
            "[I 2025-07-30 11:41:29,560] Trial 7 finished with value: 0.2438834858040642 and parameters: {'n_estimators': 115, 'learning_rate': 0.1598495817354928, 'max_depth': 6, 'num_leaves': 177, 'subsample': 0.7577458892823421, 'colsample_bytree': 0.8347057107831417, 'reg_alpha': 6.404809298847698, 'reg_lambda': 5.814017593909099}. Best is trial 5 with value: 0.14674615233981936.\n",
            "[I 2025-07-30 11:41:31,665] Trial 8 finished with value: 0.23921169740850481 and parameters: {'n_estimators': 210, 'learning_rate': 0.19945704116443455, 'max_depth': 11, 'num_leaves': 20, 'subsample': 0.6999607963188641, 'colsample_bytree': 0.8303230704929807, 'reg_alpha': 7.409016976352005, 'reg_lambda': 9.433608535629416}. Best is trial 5 with value: 0.14674615233981936.\n",
            "[I 2025-07-30 11:41:32,692] Trial 9 finished with value: 0.22446125593847502 and parameters: {'n_estimators': 205, 'learning_rate': 0.1719553996222277, 'max_depth': 3, 'num_leaves': 132, 'subsample': 0.8157474771313247, 'colsample_bytree': 0.7513137199930617, 'reg_alpha': 4.207507215432846, 'reg_lambda': 3.088827106802831}. Best is trial 5 with value: 0.14674615233981936.\n",
            "[I 2025-07-30 11:41:35,142] Trial 10 finished with value: 0.3430206096235313 and parameters: {'n_estimators': 171, 'learning_rate': 0.01849019156211619, 'max_depth': 10, 'num_leaves': 68, 'subsample': 0.6136069269228305, 'colsample_bytree': 0.6649448740854083, 'reg_alpha': 9.837695103751065, 'reg_lambda': 0.14406456115013877}. Best is trial 5 with value: 0.14674615233981936.\n",
            "[I 2025-07-30 11:41:40,099] Trial 11 finished with value: 0.17103080468397933 and parameters: {'n_estimators': 101, 'learning_rate': 0.27806190856655477, 'max_depth': 9, 'num_leaves': 15, 'subsample': 0.9983565139593784, 'colsample_bytree': 0.9959093760654071, 'reg_alpha': 0.42941882872459314, 'reg_lambda': 6.381732521897583}. Best is trial 5 with value: 0.14674615233981936.\n",
            "[I 2025-07-30 11:41:41,050] Trial 12 finished with value: 0.2028732882337125 and parameters: {'n_estimators': 159, 'learning_rate': 0.09491845834804327, 'max_depth': 3, 'num_leaves': 52, 'subsample': 0.804099951991896, 'colsample_bytree': 0.9163613800590151, 'reg_alpha': 0.009976118292522873, 'reg_lambda': 7.265627050728538}. Best is trial 5 with value: 0.14674615233981936.\n",
            "[I 2025-07-30 11:41:44,279] Trial 13 finished with value: 0.1430539396205451 and parameters: {'n_estimators': 258, 'learning_rate': 0.08005056819784098, 'max_depth': 8, 'num_leaves': 44, 'subsample': 0.8969403553294064, 'colsample_bytree': 0.9316444941386784, 'reg_alpha': 9.976790681270945, 'reg_lambda': 4.181195589341122}. Best is trial 13 with value: 0.1430539396205451.\n",
            "[I 2025-07-30 11:41:47,737] Trial 14 finished with value: 0.1458499794609671 and parameters: {'n_estimators': 268, 'learning_rate': 0.06424910249493718, 'max_depth': 8, 'num_leaves': 103, 'subsample': 0.7467173983637425, 'colsample_bytree': 0.910636620173292, 'reg_alpha': 9.888126232726313, 'reg_lambda': 2.3042512795898227}. Best is trial 13 with value: 0.1430539396205451.\n",
            "[I 2025-07-30 11:41:53,049] Trial 15 finished with value: 0.1920920311132856 and parameters: {'n_estimators': 258, 'learning_rate': 0.07730580940001029, 'max_depth': 8, 'num_leaves': 101, 'subsample': 0.8459268065423602, 'colsample_bytree': 0.8902706879598435, 'reg_alpha': 8.29318418713761, 'reg_lambda': 4.209550526508015}. Best is trial 13 with value: 0.1430539396205451.\n",
            "[I 2025-07-30 11:41:56,405] Trial 16 finished with value: 0.18327411760851403 and parameters: {'n_estimators': 260, 'learning_rate': 0.12494626377878873, 'max_depth': 8, 'num_leaves': 114, 'subsample': 0.7678800159232901, 'colsample_bytree': 0.9205342786159211, 'reg_alpha': 8.53153734120529, 'reg_lambda': 2.617079253734284}. Best is trial 13 with value: 0.1430539396205451.\n",
            "[I 2025-07-30 11:42:00,370] Trial 17 finished with value: 0.23096680616656817 and parameters: {'n_estimators': 234, 'learning_rate': 0.07379556893465493, 'max_depth': 12, 'num_leaves': 90, 'subsample': 0.8878073400851316, 'colsample_bytree': 0.7168663836400584, 'reg_alpha': 7.297846412220096, 'reg_lambda': 4.79684851123864}. Best is trial 13 with value: 0.1430539396205451.\n",
            "[I 2025-07-30 11:42:06,218] Trial 18 finished with value: 0.1941235004268879 and parameters: {'n_estimators': 274, 'learning_rate': 0.1152397882192021, 'max_depth': 9, 'num_leaves': 126, 'subsample': 0.9508792316103517, 'colsample_bytree': 0.876187177527668, 'reg_alpha': 8.803094220334746, 'reg_lambda': 0.08202628929700184}. Best is trial 13 with value: 0.1430539396205451.\n",
            "[I 2025-07-30 11:42:08,534] Trial 19 finished with value: 0.14114713021477507 and parameters: {'n_estimators': 179, 'learning_rate': 0.05052221292459654, 'max_depth': 7, 'num_leaves': 61, 'subsample': 0.7592255548065948, 'colsample_bytree': 0.9326034288794752, 'reg_alpha': 7.150362997739464, 'reg_lambda': 2.9344981487174304}. Best is trial 19 with value: 0.14114713021477507.\n",
            "[I 2025-07-30 11:42:10,696] Trial 20 finished with value: 0.4954886037310042 and parameters: {'n_estimators': 183, 'learning_rate': 0.01399984091421342, 'max_depth': 7, 'num_leaves': 58, 'subsample': 0.840782776805856, 'colsample_bytree': 0.6003105570884332, 'reg_alpha': 5.130942179811609, 'reg_lambda': 5.636937256817213}. Best is trial 19 with value: 0.14114713021477507.\n",
            "[I 2025-07-30 11:42:25,992] Trial 21 finished with value: 0.13864190851049835 and parameters: {'n_estimators': 196, 'learning_rate': 0.05371552488913424, 'max_depth': 9, 'num_leaves': 43, 'subsample': 0.7594212101599542, 'colsample_bytree': 0.9358136663043003, 'reg_alpha': 9.927929181889095, 'reg_lambda': 2.96737346705837}. Best is trial 21 with value: 0.13864190851049835.\n",
            "[I 2025-07-30 11:42:30,521] Trial 22 finished with value: 0.13460662336146972 and parameters: {'n_estimators': 192, 'learning_rate': 0.04772714535832716, 'max_depth': 10, 'num_leaves': 32, 'subsample': 0.7832898668386271, 'colsample_bytree': 0.943736908094084, 'reg_alpha': 7.477208823039146, 'reg_lambda': 3.5505130856828684}. Best is trial 22 with value: 0.13460662336146972.\n",
            "[I 2025-07-30 11:42:33,074] Trial 23 finished with value: 0.1330361823122682 and parameters: {'n_estimators': 188, 'learning_rate': 0.04241492311547864, 'max_depth': 10, 'num_leaves': 36, 'subsample': 0.7811555725820181, 'colsample_bytree': 0.9441656033974093, 'reg_alpha': 7.498159179475584, 'reg_lambda': 3.4426796478428487}. Best is trial 23 with value: 0.1330361823122682.\n",
            "[I 2025-07-30 11:42:35,698] Trial 24 finished with value: 0.12094663943571378 and parameters: {'n_estimators': 193, 'learning_rate': 0.039447244622061874, 'max_depth': 10, 'num_leaves': 32, 'subsample': 0.7951835399004424, 'colsample_bytree': 0.9946313937192426, 'reg_alpha': 6.3938660698545995, 'reg_lambda': 3.297008827808673}. Best is trial 24 with value: 0.12094663943571378.\n",
            "[I 2025-07-30 11:42:37,766] Trial 25 finished with value: 0.11724142056411987 and parameters: {'n_estimators': 150, 'learning_rate': 0.10140489960779187, 'max_depth': 11, 'num_leaves': 32, 'subsample': 0.7916955571186418, 'colsample_bytree': 0.9969449098915321, 'reg_alpha': 6.04578344613161, 'reg_lambda': 3.6542363130711117}. Best is trial 25 with value: 0.11724142056411987.\n",
            "[I 2025-07-30 11:42:39,112] Trial 26 finished with value: 0.14887841987514502 and parameters: {'n_estimators': 146, 'learning_rate': 0.1058029351207676, 'max_depth': 12, 'num_leaves': 12, 'subsample': 0.8179886122016918, 'colsample_bytree': 0.9974913050793726, 'reg_alpha': 5.547011304735676, 'reg_lambda': 4.879085908462354}. Best is trial 25 with value: 0.11724142056411987.\n",
            "[I 2025-07-30 11:42:43,553] Trial 27 finished with value: 0.10438094329140991 and parameters: {'n_estimators': 137, 'learning_rate': 0.14517348521934195, 'max_depth': 11, 'num_leaves': 74, 'subsample': 0.6761068653461081, 'colsample_bytree': 0.9761256987209621, 'reg_alpha': 4.3706990048896746, 'reg_lambda': 1.797704801048547}. Best is trial 27 with value: 0.10438094329140991.\n",
            "[I 2025-07-30 11:42:45,771] Trial 28 finished with value: 0.10453887016788616 and parameters: {'n_estimators': 129, 'learning_rate': 0.14260633855514948, 'max_depth': 11, 'num_leaves': 79, 'subsample': 0.6664361618907694, 'colsample_bytree': 0.9811511982649671, 'reg_alpha': 4.201383159089492, 'reg_lambda': 1.2599189988397919}. Best is trial 27 with value: 0.10438094329140991.\n",
            "[I 2025-07-30 11:42:47,885] Trial 29 finished with value: 0.20952046678632746 and parameters: {'n_estimators': 127, 'learning_rate': 0.1457924255420825, 'max_depth': 11, 'num_leaves': 76, 'subsample': 0.6001825301406575, 'colsample_bytree': 0.856301196486554, 'reg_alpha': 4.228199181570278, 'reg_lambda': 1.1718189233650333}. Best is trial 27 with value: 0.10438094329140991.\n"
          ]
        }
      ]
    },
    {
      "cell_type": "code",
      "source": [
        "print(f\"Best RMSE: {study.best_value:.4f}\")\n",
        "print(f\"Best params: {study.best_params}\")"
      ],
      "metadata": {
        "colab": {
          "base_uri": "https://localhost:8080/"
        },
        "id": "xCegd46ZuPpE",
        "outputId": "023eb12d-530f-4f1f-91ab-412deeb3d17d"
      },
      "execution_count": 44,
      "outputs": [
        {
          "output_type": "stream",
          "name": "stdout",
          "text": [
            "Best RMSE: 0.1044\n",
            "Best params: {'n_estimators': 137, 'learning_rate': 0.14517348521934195, 'max_depth': 11, 'num_leaves': 74, 'subsample': 0.6761068653461081, 'colsample_bytree': 0.9761256987209621, 'reg_alpha': 4.3706990048896746, 'reg_lambda': 1.797704801048547}\n"
          ]
        }
      ]
    },
    {
      "cell_type": "markdown",
      "source": [
        "# Train Final Model"
      ],
      "metadata": {
        "id": "Ns3eH08fv0q6"
      }
    },
    {
      "cell_type": "code",
      "source": [
        "# -------------------------------\n",
        "\n",
        "best_params = study.best_params\n",
        "best_params.update({\n",
        "    'objective': 'regression',\n",
        "    'metric': 'rmse',\n",
        "    'verbose': -1,\n",
        "    'random_state': 42\n",
        "})\n",
        "\n",
        "train_data = lgb.Dataset(X_train, label=y_train, categorical_feature=categorical_cols)\n",
        "val_data = lgb.Dataset(X_val, label=y_val, categorical_feature=categorical_cols)\n",
        "\n",
        "final_model = lgb.train(\n",
        "    best_params,\n",
        "    train_data,\n",
        "    valid_sets=[train_data, val_data],\n",
        "    callbacks=[lgb.early_stopping(stopping_rounds=20), lgb.log_evaluation(10)]\n",
        ")\n",
        "\n",
        "# -------------------------------"
      ],
      "metadata": {
        "colab": {
          "base_uri": "https://localhost:8080/"
        },
        "id": "XzkkRgMZvsbt",
        "outputId": "e08e3424-4427-4424-b38d-bb6ad6263871"
      },
      "execution_count": 45,
      "outputs": [
        {
          "output_type": "stream",
          "name": "stdout",
          "text": [
            "Training until validation scores don't improve for 20 rounds\n",
            "[10]\ttraining's rmse: 0.660199\tvalid_1's rmse: 0.801793\n",
            "[20]\ttraining's rmse: 0.18545\tvalid_1's rmse: 0.236271\n",
            "[30]\ttraining's rmse: 0.101574\tvalid_1's rmse: 0.135225\n",
            "[40]\ttraining's rmse: 0.08507\tvalid_1's rmse: 0.11802\n",
            "[50]\ttraining's rmse: 0.0794049\tvalid_1's rmse: 0.113492\n",
            "[60]\ttraining's rmse: 0.0765511\tvalid_1's rmse: 0.111467\n",
            "[70]\ttraining's rmse: 0.0744231\tvalid_1's rmse: 0.10997\n",
            "[80]\ttraining's rmse: 0.0726371\tvalid_1's rmse: 0.108746\n",
            "[90]\ttraining's rmse: 0.0709292\tvalid_1's rmse: 0.107427\n",
            "[100]\ttraining's rmse: 0.0695748\tvalid_1's rmse: 0.106614\n",
            "[110]\ttraining's rmse: 0.0684075\tvalid_1's rmse: 0.106\n",
            "[120]\ttraining's rmse: 0.0672332\tvalid_1's rmse: 0.105154\n",
            "[130]\ttraining's rmse: 0.066285\tvalid_1's rmse: 0.104564\n",
            "Did not meet early stopping. Best iteration is:\n",
            "[137]\ttraining's rmse: 0.0657017\tvalid_1's rmse: 0.104381\n"
          ]
        }
      ]
    },
    {
      "cell_type": "markdown",
      "source": [
        "#  Evaluate"
      ],
      "metadata": {
        "id": "6DFj46NowEmT"
      }
    },
    {
      "cell_type": "code",
      "source": [
        "#  Evaluate\n",
        "# -------------------------------\n",
        "\n",
        "preds = final_model.predict(X_val)\n",
        "y_val_orig = np.expm1(y_val)\n",
        "preds_orig = np.expm1(preds)\n",
        "\n",
        "mae = mean_absolute_error(y_val_orig, preds_orig)\n",
        "rmse = np.sqrt(mean_squared_error(y_val_orig, preds_orig))\n",
        "mape = mean_absolute_percentage_error(y_val_orig, preds_orig)\n",
        "\n",
        "print(f\"✅ Final Evaluation (Original Scale):\")\n",
        "print(f\"MAE:  ${mae:,.2f}\")\n",
        "print(f\"RMSE: ${rmse:,.2f}\")\n",
        "print(f\"MAPE: {mape:.2%}\")"
      ],
      "metadata": {
        "colab": {
          "base_uri": "https://localhost:8080/"
        },
        "id": "GjwwCETfv7pF",
        "outputId": "4b1ec9cd-7b51-467f-ca1d-67fe02700168"
      },
      "execution_count": 46,
      "outputs": [
        {
          "output_type": "stream",
          "name": "stdout",
          "text": [
            "✅ Final Evaluation (Original Scale):\n",
            "MAE:  $7,074,332.64\n",
            "RMSE: $150,513,848.00\n",
            "MAPE: 6.95%\n"
          ]
        }
      ]
    },
    {
      "cell_type": "code",
      "source": [
        "# Feature importance\n",
        "lgb.plot_importance(final_model, max_num_features=10, figsize=(8, 6))\n",
        "plt.title(\"Feature Importance (LightGBM)\")\n",
        "plt.show()"
      ],
      "metadata": {
        "colab": {
          "base_uri": "https://localhost:8080/",
          "height": 578
        },
        "id": "CNLxUqoowHTS",
        "outputId": "05e4b445-2d7a-43d3-ac10-89d330782a34"
      },
      "execution_count": 47,
      "outputs": [
        {
          "output_type": "display_data",
          "data": {
            "text/plain": [
              "<Figure size 800x600 with 1 Axes>"
            ],
            "image/png": "[encoded data removed]"
          },
          "metadata": {}
        }
      ]
    },
    {
      "cell_type": "markdown",
      "source": [
        "#  Save Model"
      ],
      "metadata": {
        "id": "zpb4NNLqxYlR"
      }
    },
    {
      "cell_type": "code",
      "source": [
        "# -------------------------------\n",
        "# STEP 11: Save Model & Metadata (With Reusable Pipeline)\n",
        "# -------------------------------\n",
        "\n",
        "# Wrap the model and preprocessing into a single reusable class\n",
        "class DrugSpendingPredictor:\n",
        "    def __init__(self, model, feature_cols, cat_cols, target_log_col):\n",
        "        self.model = model\n",
        "        self.feature_cols = feature_cols\n",
        "        self.cat_cols = cat_cols\n",
        "        self.target_log_col = target_log_col\n",
        "\n",
        "    def predict(self, df):\n",
        "        \"\"\"Predict total spending on new data. Expects raw df_long-style DataFrame.\"\"\"\n",
        "        # Sort for consistency\n",
        "        df = df.sort_values(['brnd_name', 'year']).copy()\n",
        "\n",
        "        # Recreate features\n",
        "        target_col = \"tot_spndng\"\n",
        "        df[f\"{target_col}_log\"] = np.log1p(df[target_col])\n",
        "\n",
        "        # Lag features\n",
        "        df['spend_lag1'] = df.groupby('brnd_name')[f\"{target_col}_log\"].shift(1)\n",
        "        df['spend_lag2'] = df.groupby('brnd_name')[f\"{target_col}_log\"].shift(2)\n",
        "\n",
        "        # Rolling mean\n",
        "        df['spend_roll_mean'] = df.groupby('brnd_name')['spend_lag1'].transform(\n",
        "            lambda x: x.rolling(2, min_periods=1).mean()\n",
        "        )\n",
        "\n",
        "        # YoY change\n",
        "        df['yoy_change'] = df['spend_lag1'] - df['spend_lag2']\n",
        "\n",
        "        # Log-transform dynamic features\n",
        "        dynamic_features = [\n",
        "            'tot_dsg_unts', 'tot_clms', 'tot_benes',\n",
        "            'avg_spnd_per_clm', 'avg_spnd_per_bene', 'outlier_flag'\n",
        "        ]\n",
        "        for col in dynamic_features:\n",
        "            df[f\"{col}_log\"] = np.log1p(df[col])\n",
        "\n",
        "        # Prepare feature matrix\n",
        "        X = df[self.feature_cols].copy()\n",
        "        for col in self.cat_cols:\n",
        "            X[col] = X[col].astype('category')\n",
        "\n",
        "        # Predict in log space and reverse transform\n",
        "        log_pred = self.model.predict(X)\n",
        "        return np.expm1(log_pred)\n",
        "\n",
        "# Instantiate and save the full predictor\n",
        "predictor = DrugSpendingPredictor(\n",
        "    model=final_model,\n",
        "    feature_cols=feature_columns,\n",
        "    cat_cols=categorical_cols,\n",
        "    target_log_col=target_col_log\n",
        ")\n",
        "\n",
        "# Save predictor object\n",
        "joblib.dump(predictor, 'drug_spending_predictor.pkl')\n",
        "\n",
        "# Save metadata for reference\n",
        "metadata = {\n",
        "    'feature_columns': feature_columns,\n",
        "    'categorical_columns': categorical_cols,\n",
        "    'target_column': target_col_log,\n",
        "    'model_type': 'LightGBM',\n",
        "    'training_years': [2019, 2020, 2021, 2022],\n",
        "    'forecast_target_year': 2023,\n",
        "    'version': '1.0',\n",
        "    'created_on': pd.Timestamp.now().strftime(\"%Y-%m-%d\")\n",
        "}\n",
        "joblib.dump(metadata, 'model_metadata.pkl')\n",
        "\n",
        "print(\"✅ Model and metadata saved: drug_spending_predictor.pkl, model_metadata.pkl\")\n",
        "\n",
        "\n"
      ],
      "metadata": {
        "colab": {
          "base_uri": "https://localhost:8080/"
        },
        "id": "ovjrnge8MbEy",
        "outputId": "30decb7a-ebf1-4f4e-9873-1503dae76cb0"
      },
      "execution_count": 48,
      "outputs": [
        {
          "output_type": "stream",
          "name": "stdout",
          "text": [
            "✅ Model and metadata saved: drug_spending_predictor.pkl, model_metadata.pkl\n"
          ]
        }
      ]
    },
    {
      "cell_type": "markdown",
      "source": [
        "# Forecast 2024"
      ],
      "metadata": {
        "id": "cXJQ5aH3x4SR"
      }
    },
    {
      "cell_type": "code",
      "source": [
        "# Forecast 2024\n",
        "# -------------------------------\n",
        "\n",
        "# Use 2023 as base year and shift to 2024\n",
        "forecast_base = df_long[df_long['year'] == 2023].copy()\n",
        "forecast_base['year'] = 2024  # Predict for 2024\n",
        "\n",
        "# Generate forecasts\n",
        "forecasts_2024 = predictor.predict(forecast_base)\n",
        "\n",
        "# Create results DataFrame\n",
        "forecast_results = pd.DataFrame({\n",
        "    'brnd_name': forecast_base['brnd_name'].values,\n",
        "    'manufacturer': forecast_base['mftr_name'].values,\n",
        "    'forecast_2024_total_spending': forecasts_2024\n",
        "}).nlargest(10, 'forecast_2024_total_spending').reset_index(drop=True)\n",
        "\n",
        "print(\"📈 Top 10 Forecasted Drugs for 2024:\")\n",
        "print(forecast_results)"
      ],
      "metadata": {
        "colab": {
          "base_uri": "https://localhost:8080/"
        },
        "id": "Jq3mKEU1x98y",
        "outputId": "ce740e32-fac4-4f28-b976-885ce8ab3783"
      },
      "execution_count": 49,
      "outputs": [
        {
          "output_type": "stream",
          "name": "stdout",
          "text": [
            "📈 Top 10 Forecasted Drugs for 2024:\n",
            "         brnd_name     manufacturer  forecast_2024_total_spending\n",
            "0          Eliquis  bms primarycare                  3.156828e+09\n",
            "1          Ozempic     novo nordisk                  2.828201e+09\n",
            "2        Jardiance  boehringer ing.                  2.776480e+09\n",
            "3          Xarelto   janssen pharm.                  2.512456e+09\n",
            "4        Trulicity  eli lilly & co.                  2.223999e+09\n",
            "5  Trelegy Ellipta  glaxosmithkline                  2.030497e+09\n",
            "6          Januvia  merck sharp & d                  1.806726e+09\n",
            "7         Revlimid      celgene/bms                  1.776255e+09\n",
            "8  Novolog Flexpen     novo nordisk                  1.767898e+09\n",
            "9          Farxiga      astrazeneca                  1.758347e+09\n"
          ]
        }
      ]
    },
    {
      "cell_type": "code",
      "source": [
        "# Save to CSV\n",
        "forecast_results.to_csv('top_10_drug_forecasts_2024.csv', index=False)\n",
        "print(\"✅ Forecast results saved to 'top_10_drug_forecasts_2024.csv'\")"
      ],
      "metadata": {
        "colab": {
          "base_uri": "https://localhost:8080/"
        },
        "id": "rh3xFve1NSO3",
        "outputId": "250a38b7-6291-4fa4-ff02-9625844ea50a"
      },
      "execution_count": 50,
      "outputs": [
        {
          "output_type": "stream",
          "name": "stdout",
          "text": [
            "✅ Forecast results saved to 'top_10_drug_forecasts_2024.csv'\n"
          ]
        }
      ]
    },
    {
      "cell_type": "markdown",
      "source": [
        "# CREATE MODULES"
      ],
      "metadata": {
        "id": "SZzxVtZzNeRp"
      }
    },
    {
      "cell_type": "code",
      "source": [
        "# CREATE MODULES\n",
        "# -------------------------------\n",
        "\n",
        "# Make directories\n",
        "os.makedirs(\"src\", exist_ok=True)\n",
        "os.makedirs(\"models\", exist_ok=True)\n",
        "os.makedirs(\"data/processed\", exist_ok=True)\n",
        "\n",
        "# 1. src/ingest.py\n",
        "with open(\"src/ingest.py\", \"w\") as f:\n",
        "    f.write('''\n",
        "def load_data(file_path):\n",
        "    \"\"\"Load raw CMS data.\"\"\"\n",
        "    import pandas as pd\n",
        "    df = pd.read_csv(file_path)\n",
        "    print(f\"✅ Data loaded: {df.shape}\")\n",
        "    return df\n",
        "''')\n",
        "\n",
        "# 2. src/preprocess.py\n",
        "with open(\"src/preprocess.py\", \"w\") as f:\n",
        "    f.write('''\n",
        "def clean_data(df):\n",
        "    \"\"\"Clean and standardize column names and values.\"\"\"\n",
        "    df.columns = (df.columns\n",
        "                  .str.strip()\n",
        "                  .str.lower()\n",
        "                  .str.replace(' ', '_', regex=False)\n",
        "                  .str.replace('-', '_', regex=False))\n",
        "    df['mftr_name'] = (df['mftr_name']\n",
        "                       .str.strip()\n",
        "                       .str.lower()\n",
        "                       .str.replace(r'\\\\s+', ' ', regex=True))\n",
        "    return df\n",
        "\n",
        "def reshape_to_long(df):\n",
        "    \"\"\"Reshape from wide to long format.\"\"\"\n",
        "    import pandas as pd\n",
        "    id_vars = ['brnd_name', 'gnrc_name', 'tot_mftr', 'mftr_name']\n",
        "    value_vars = [col for col in df.columns if any(str(yr) in col for yr in range(2019, 2024))]\n",
        "\n",
        "    df_long = pd.wide_to_long(\n",
        "        df,\n",
        "        stubnames=[\n",
        "            'tot_spndng', 'tot_dsg_unts', 'tot_clms', 'tot_benes',\n",
        "            'avg_spnd_per_dsg_unt_wghtd', 'avg_spnd_per_clm', 'avg_spnd_per_bene', 'outlier_flag'\n",
        "        ],\n",
        "        i=id_vars,\n",
        "        j='year',\n",
        "        sep='_',\n",
        "        suffix=r'\\\\d+'\n",
        "    ).reset_index()\n",
        "    return df_long\n",
        "''')\n",
        "\n",
        "# 3. src/features.py\n",
        "with open(\"src/features.py\", \"w\") as f:\n",
        "    f.write('''\n",
        "def create_features(df):\n",
        "    \"\"\"Add lag, rolling, and log features.\"\"\"\n",
        "    import numpy as np\n",
        "    df = df.sort_values(['brnd_name', 'year']).copy()\n",
        "    df['tot_spndng_log'] = np.log1p(df['tot_spndng'])\n",
        "\n",
        "    df['spend_lag1'] = df.groupby('brnd_name')['tot_spndng_log'].shift(1)\n",
        "    df['spend_lag2'] = df.groupby('brnd_name')['tot_spndng_log'].shift(2)\n",
        "    df['spend_roll_mean'] = df.groupby('brnd_name')['spend_lag1'].transform(\n",
        "        lambda x: x.rolling(2, min_periods=1).mean()\n",
        "    )\n",
        "    df['yoy_change'] = df['spend_lag1'] - df['spend_lag2']\n",
        "\n",
        "    dynamic_features = [\n",
        "        'tot_dsg_unts', 'tot_clms', 'tot_benes',\n",
        "        'avg_spnd_per_clm', 'avg_spnd_per_bene', 'outlier_flag'\n",
        "    ]\n",
        "    for col in dynamic_features:\n",
        "        df[f\"{col}_log\"] = np.log1p(df[col])\n",
        "\n",
        "    return df\n",
        "''')\n",
        "\n",
        "# 4. src/model.py\n",
        "with open(\"src/model.py\", \"w\") as f:\n",
        "    f.write('''\n",
        "def train_and_save_model(df, feature_columns, categorical_cols, target_col_log):\n",
        "    \"\"\"Train LightGBM model and save with metadata.\"\"\"\n",
        "    from sklearn.model_selection import train_test_split\n",
        "    import lightgbm as lgb\n",
        "    import joblib\n",
        "\n",
        "    train = df[df['year'] < 2023]\n",
        "    val = df[df['year'] == 2023]\n",
        "\n",
        "    X_train = train[feature_columns + categorical_cols]\n",
        "    y_train = train[target_col_log]\n",
        "    X_val = val[feature_columns + categorical_cols]\n",
        "    y_val = val[target_col_log]\n",
        "\n",
        "    for col in categorical_cols:\n",
        "        X_train[col] = X_train[col].astype('category')\n",
        "        X_val[col] = X_val[col].astype('category')\n",
        "\n",
        "    train_data = lgb.Dataset(X_train, label=y_train, categorical_feature=categorical_cols)\n",
        "    val_data = lgb.Dataset(X_val, label=y_val, categorical_feature=categorical_cols)\n",
        "\n",
        "    params = {\n",
        "        'objective': 'regression',\n",
        "        'metric': 'rmse',\n",
        "        'boosting_type': 'gbdt',\n",
        "        'num_leaves': 31,\n",
        "        'learning_rate': 0.05,\n",
        "        'feature_fraction': 0.9,\n",
        "        'verbose': -1\n",
        "    }\n",
        "\n",
        "    model = lgb.train(\n",
        "        params,\n",
        "        train_data,\n",
        "        valid_sets=[train_data, val_data],\n",
        "        callbacks=[lgb.early_stopping(20), lgb.log_evaluation(10)]\n",
        "    )\n",
        "\n",
        "    joblib.dump(model, '../models/final_model.pkl')\n",
        "    print(\"✅ Model trained and saved.\")\n",
        "    return model\n",
        "''')\n",
        "\n",
        "print(\"📁 Modular structure created: src/ingest.py, preprocess.py, features.py, model.py\")"
      ],
      "metadata": {
        "colab": {
          "base_uri": "https://localhost:8080/"
        },
        "id": "BxBrrrdbNYYS",
        "outputId": "c4b3cd57-e1c9-49bc-c208-a8f5e78d5a1b"
      },
      "execution_count": 51,
      "outputs": [
        {
          "output_type": "stream",
          "name": "stdout",
          "text": [
            "📁 Modular structure created: src/ingest.py, preprocess.py, features.py, model.py\n"
          ]
        }
      ]
    },
    {
      "cell_type": "markdown",
      "source": [
        "#  Package Project for GitHub & Deployment"
      ],
      "metadata": {
        "id": "88ibCDttNjHS"
      }
    },
    {
      "cell_type": "code",
      "source": [
        "# -------------------------------\n",
        "#  Package Project for GitHub & Deployment\n",
        "# -------------------------------\n",
        "# Ensure directories exist\n",
        "os.makedirs(\"medicare_forecast/src\", exist_ok=True)\n",
        "os.makedirs(\"medicare_forecast/models\", exist_ok=True)\n",
        "os.makedirs(\"medicare_forecast/data/processed\", exist_ok=True)"
      ],
      "metadata": {
        "id": "-N6BVWAoNt_N"
      },
      "execution_count": 52,
      "outputs": []
    },
    {
      "cell_type": "code",
      "source": [
        "#  Move modular .py files\n",
        "!mv src/*.py medicare_forecast/src/ 2>/dev/null || echo \"No src/*.py files to move\"\n"
      ],
      "metadata": {
        "id": "E_-PTGVDNr4N"
      },
      "execution_count": 53,
      "outputs": []
    },
    {
      "cell_type": "code",
      "source": [
        "# Copy saved model & metadata\n",
        "!cp drug_spending_predictor.pkl medicare_forecast/models/\n",
        "!cp model_metadata.pkl medicare_forecast/models/\n"
      ],
      "metadata": {
        "id": "FfCYz2XONwKG"
      },
      "execution_count": 54,
      "outputs": []
    },
    {
      "cell_type": "code",
      "source": [
        "#  Copy forecast results\n",
        "!cp top_10_drug_forecasts_2024.csv medicare_forecast/data/processed/\n"
      ],
      "metadata": {
        "id": "qiQkssWYNzii"
      },
      "execution_count": 55,
      "outputs": []
    },
    {
      "cell_type": "code",
      "source": [
        "# 5. Create requirements.txt with EXACT versions (Critical!)\n",
        "# This ensures no version conflicts during deployment\n",
        "\n",
        "# Get installed versions\n",
        "# !pip freeze > medicare_forecast/requirements.txt  # Full list\n",
        "\n",
        "# Or, use curated list with key packages only:\n",
        "with open(\"medicare_forecast/requirements.txt\", \"w\") as f:\n",
        "    f.write(\"pandas\\n\")\n",
        "    f.write(\"numpy\\n\")\n",
        "    f.write(\"matplotlib\\n\")\n",
        "    f.write(\"seaborn\\n\")\n",
        "    f.write(\"lightgbm\\n\")\n",
        "    f.write(\"optuna\\n\")\n",
        "    f.write(\"joblib\\n\")\n",
        "    f.write(\"scikit-learn\\n\")\n",
        "    f.write(\"xgboost\\n\")\n",
        "    f.write(\"shap\\n\")\n",
        "    f.write(\"plotly\\n\")\n",
        "    f.write(\"streamlit\\n\")\n",
        "    f.write(\"fastapi\\n\")\n",
        "    f.write(\"uvicorn\\n\")\n",
        "    f.write(\"requests\\n\")\n",
        "    f.write(\"python-dotenv\\n\")\n",
        "\n",
        "print(\"✅ requirements.txt created (minimal dependencies)\")\n",
        "\n"
      ],
      "metadata": {
        "colab": {
          "base_uri": "https://localhost:8080/"
        },
        "id": "aTFhuCt1N3S_",
        "outputId": "ff159f0b-3384-4cfd-96b9-1f3a4dd39cf3"
      },
      "execution_count": 57,
      "outputs": [
        {
          "output_type": "stream",
          "name": "stdout",
          "text": [
            "✅ requirements.txt created (minimal dependencies)\n"
          ]
        }
      ]
    },
    {
      "cell_type": "code",
      "source": [
        "# 6. Create README.md\n",
        "with open(\"medicare_forecast/README.md\", \"w\") as f:\n",
        "    f.write(\"# Medicare Part D Drug Spending Forecasting Tool\\n\\n\")\n",
        "    f.write(\"AI-powered forecasting system for Medicare Part D drug spending using LightGBM + Optuna.\\n\\n\")\n",
        "    f.write(\"## Features\\n\")\n",
        "    f.write(\"- EDA on CMS data (2019–2023)\\n\")\n",
        "    f.write(\"- Feature engineering with lags & rolling stats\\n\")\n",
        "    f.write(\"- Forecasting with reusable `DrugSpendingPredictor`\\n\")\n",
        "    f.write(\"- Top 10 drug forecast for 2024\\n\\n\")\n",
        "    f.write(\"## Setup\\n\")\n",
        "    f.write(\"```bash\\n\")\n",
        "    f.write(\"pip install -r requirements.txt\\n\")\n",
        "    f.write(\"```\\n\")\n",
        "\n",
        "print(\"✅ README.md created\")\n"
      ],
      "metadata": {
        "colab": {
          "base_uri": "https://localhost:8080/"
        },
        "id": "yNiSfecrN_CM",
        "outputId": "a77159a2-9cbd-41b5-8507-9de7d1d21a9f"
      },
      "execution_count": 58,
      "outputs": [
        {
          "output_type": "stream",
          "name": "stdout",
          "text": [
            "✅ README.md created\n"
          ]
        }
      ]
    },
    {
      "cell_type": "code",
      "source": [
        "#  ZIP the folder\n",
        "!zip -r medicare_forecast.zip medicare_forecast/\n"
      ],
      "metadata": {
        "colab": {
          "base_uri": "https://localhost:8080/"
        },
        "id": "KFeh_pD5OQHx",
        "outputId": "fa9509de-de12-4b43-ea85-072697c8fe55"
      },
      "execution_count": 59,
      "outputs": [
        {
          "output_type": "stream",
          "name": "stdout",
          "text": [
            "  adding: medicare_forecast/ (stored 0%)\n",
            "  adding: medicare_forecast/src/ (stored 0%)\n",
            "  adding: medicare_forecast/src/features.py (deflated 56%)\n",
            "  adding: medicare_forecast/src/preprocess.py (deflated 59%)\n",
            "  adding: medicare_forecast/src/ingest.py (deflated 21%)\n",
            "  adding: medicare_forecast/src/model.py (deflated 57%)\n",
            "  adding: medicare_forecast/models/ (stored 0%)\n",
            "  adding: medicare_forecast/models/drug_spending_predictor.pkl (deflated 66%)\n",
            "  adding: medicare_forecast/models/model_metadata.pkl (deflated 34%)\n",
            "  adding: medicare_forecast/README.md (deflated 33%)\n",
            "  adding: medicare_forecast/requirements.txt (deflated 26%)\n",
            "  adding: medicare_forecast/data/ (stored 0%)\n",
            "  adding: medicare_forecast/data/processed/ (stored 0%)\n",
            "  adding: medicare_forecast/data/processed/top_10_drug_forecasts_2024.csv (deflated 27%)\n"
          ]
        }
      ]
    },
    {
      "cell_type": "code",
      "source": [
        "# 8. Download ZIP\n",
        "from google.colab import files\n",
        "files.download('medicare_forecast.zip')\n",
        "\n",
        "print(\" Project packaged and ready! Upload medicare_forecast.zip to GitHub.\")"
      ],
      "metadata": {
        "colab": {
          "base_uri": "https://localhost:8080/",
          "height": 34
        },
        "id": "1AuQzOd7OUGM",
        "outputId": "ce97ac44-22d9-4d01-cafc-66e16a1cda19"
      },
      "execution_count": 60,
      "outputs": [
        {
          "output_type": "display_data",
          "data": {
            "text/plain": [
              "<IPython.core.display.Javascript object>"
            ],
            "application/javascript": [
              "\n",
              "    async function download(id, filename, size) {\n",
              "      if (!google.colab.kernel.accessAllowed) {\n",
              "        return;\n",
              "      }\n",
              "      const div = document.createElement('div');\n",
              "      const label = document.createElement('label');\n",
              "      label.textContent = `Downloading \"${filename}\": `;\n",
              "      div.appendChild(label);\n",
              "      const progress = document.createElement('progress');\n",
              "      progress.max = size;\n",
              "      div.appendChild(progress);\n",
              "      document.body.appendChild(div);\n",
              "\n",
              "      const buffers = [];\n",
              "      let downloaded = 0;\n",
              "\n",
              "      const channel = await google.colab.kernel.comms.open(id);\n",
              "      // Send a message to notify the kernel that we're ready.\n",
              "      channel.send({})\n",
              "\n",
              "      for await (const message of channel.messages) {\n",
              "        // Send a message to notify the kernel that we're ready.\n",
              "        channel.send({})\n",
              "        if (message.buffers) {\n",
              "          for (const buffer of message.buffers) {\n",
              "            buffers.push(buffer);\n",
              "            downloaded += buffer.byteLength;\n",
              "            progress.value = downloaded;\n",
              "          }\n",
              "        }\n",
              "      }\n",
              "      const blob = new Blob(buffers, {type: 'application/binary'});\n",
              "      const a = document.createElement('a');\n",
              "      a.href = window.URL.createObjectURL(blob);\n",
              "      a.download = filename;\n",
              "      div.appendChild(a);\n",
              "      a.click();\n",
              "      div.remove();\n",
              "    }\n",
              "  "
            ]
          },
          "metadata": {}
        },
        {
          "output_type": "display_data",
          "data": {
            "text/plain": [
              "<IPython.core.display.Javascript object>"
            ],
            "application/javascript": [
              "download(\"download_8d889d45-dc29-4939-8d4c-70ac8cc1e038\", \"medicare_forecast.zip\", 458985)"
            ]
          },
          "metadata": {}
        },
        {
          "output_type": "stream",
          "name": "stdout",
          "text": [
            " Project packaged and ready! Upload medicare_forecast.zip to GitHub.\n"
          ]
        }
      ]
    },
    {
      "cell_type": "code",
      "source": [
        "# -------------------------------\n",
        "# CHECK VERSIONS FOR DEPLOYMENT\n",
        "# -------------------------------\n",
        "import sys\n",
        "import pandas as pd\n",
        "import numpy as np\n",
        "import sklearn\n",
        "import lightgbm as lgb\n",
        "import optuna\n",
        "import matplotlib\n",
        "import seaborn as sns\n",
        "import joblib\n",
        "\n",
        "print(\"Python Version:\", sys.version)\n",
        "print(\"pandas:\", pd.__version__)\n",
        "print(\"numpy:\", np.__version__)\n",
        "print(\"scikit-learn:\", sklearn.__version__)\n",
        "print(\"lightgbm:\", lgb.__version__)\n",
        "print(\"optuna:\", optuna.__version__)\n",
        "print(\"matplotlib:\", matplotlib.__version__)\n",
        "print(\" seaborn:\", sns.__version__)\n",
        "print(\"joblib:\", joblib.__version__)\n"
      ],
      "metadata": {
        "colab": {
          "base_uri": "https://localhost:8080/"
        },
        "id": "zdkZW56NOZoF",
        "outputId": "aea8034b-0395-4a69-c852-f94a2b5550c8"
      },
      "execution_count": 62,
      "outputs": [
        {
          "output_type": "stream",
          "name": "stdout",
          "text": [
            "Python Version: 3.11.13 (main, Jun  4 2025, 08:57:29) [GCC 11.4.0]\n",
            "pandas: 2.2.2\n",
            "numpy: 2.0.2\n",
            "scikit-learn: 1.6.1\n",
            "lightgbm: 4.6.0\n",
            "optuna: 4.4.0\n",
            "matplotlib: 3.10.0\n",
            " seaborn: 0.13.2\n",
            "joblib: 1.5.1\n"
          ]
        }
      ]
    },
    {
      "cell_type": "code",
      "source": [],
      "metadata": {
        "id": "HuFAwq9rOxhl"
      },
      "execution_count": null,
      "outputs": []
    }
  ]
}